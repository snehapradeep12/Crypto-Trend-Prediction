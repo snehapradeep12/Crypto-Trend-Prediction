{
 "cells": [
  {
   "cell_type": "markdown",
   "id": "0495d13d",
   "metadata": {},
   "source": [
    "### Import the libraries"
   ]
  },
  {
   "cell_type": "code",
   "execution_count": 88,
   "id": "7ec52b7f",
   "metadata": {},
   "outputs": [],
   "source": [
    "import pandas as pd\n",
    "import numpy as np\n",
    "import matplotlib.pyplot as plt\n",
    "from matplotlib.pyplot import figure\n",
    "\n",
    "import statsmodels.graphics.tsaplots as sgt\n",
    "import statsmodels.tsa.stattools as sts\n",
    "from statsmodels.tsa.seasonal import seasonal_decompose\n",
    "from statsmodels.tsa.stattools import adfuller\n",
    "from statsmodels.tsa.arima.model import ARIMA\n",
    "\n",
    "from sklearn.metrics import mean_squared_error, mean_absolute_error\n",
    "import math\n",
    "\n",
    "# ignore warnings\n",
    "import warnings\n",
    "warnings.filterwarnings(\"ignore\")"
   ]
  },
  {
   "cell_type": "markdown",
   "id": "03778228",
   "metadata": {},
   "source": [
    "### 1. Problem Statement"
   ]
  },
  {
   "cell_type": "markdown",
   "id": "3a8b81ef",
   "metadata": {},
   "source": [
    "Predict the trend of Bitcoin closing price using ARIMA model, by leveraging the historical closing price data spanning the past 5 years."
   ]
  },
  {
   "cell_type": "markdown",
   "id": "060c0d29",
   "metadata": {},
   "source": [
    "### 2. Input data"
   ]
  },
  {
   "cell_type": "markdown",
   "id": "80b17a87",
   "metadata": {},
   "source": [
    "The input data is extracted from Yahoo Finance for Bitcoin (symbol = 'BTC-USD') using yfinancefor the past 5 years in the date range from '2018-05-01' to '2023-06-14'.The .csv file for the same is loaded here"
   ]
  },
  {
   "cell_type": "code",
   "execution_count": 56,
   "id": "e33f3d33",
   "metadata": {},
   "outputs": [
    {
     "data": {
      "text/html": [
       "<div>\n",
       "<style scoped>\n",
       "    .dataframe tbody tr th:only-of-type {\n",
       "        vertical-align: middle;\n",
       "    }\n",
       "\n",
       "    .dataframe tbody tr th {\n",
       "        vertical-align: top;\n",
       "    }\n",
       "\n",
       "    .dataframe thead th {\n",
       "        text-align: right;\n",
       "    }\n",
       "</style>\n",
       "<table border=\"1\" class=\"dataframe\">\n",
       "  <thead>\n",
       "    <tr style=\"text-align: right;\">\n",
       "      <th></th>\n",
       "      <th>Date</th>\n",
       "      <th>Close</th>\n",
       "    </tr>\n",
       "  </thead>\n",
       "  <tbody>\n",
       "    <tr>\n",
       "      <th>0</th>\n",
       "      <td>2018-04-30</td>\n",
       "      <td>9240.549805</td>\n",
       "    </tr>\n",
       "    <tr>\n",
       "      <th>1</th>\n",
       "      <td>2018-05-01</td>\n",
       "      <td>9119.009766</td>\n",
       "    </tr>\n",
       "    <tr>\n",
       "      <th>2</th>\n",
       "      <td>2018-05-02</td>\n",
       "      <td>9235.919922</td>\n",
       "    </tr>\n",
       "    <tr>\n",
       "      <th>3</th>\n",
       "      <td>2018-05-03</td>\n",
       "      <td>9743.860352</td>\n",
       "    </tr>\n",
       "    <tr>\n",
       "      <th>4</th>\n",
       "      <td>2018-05-04</td>\n",
       "      <td>9700.759766</td>\n",
       "    </tr>\n",
       "  </tbody>\n",
       "</table>\n",
       "</div>"
      ],
      "text/plain": [
       "        Date        Close\n",
       "0 2018-04-30  9240.549805\n",
       "1 2018-05-01  9119.009766\n",
       "2 2018-05-02  9235.919922\n",
       "3 2018-05-03  9743.860352\n",
       "4 2018-05-04  9700.759766"
      ]
     },
     "execution_count": 56,
     "metadata": {},
     "output_type": "execute_result"
    }
   ],
   "source": [
    "df = pd.read_excel('Bitcoin_data.xlsx')\n",
    "df.head()"
   ]
  },
  {
   "cell_type": "code",
   "execution_count": 57,
   "id": "16544bfd",
   "metadata": {},
   "outputs": [
    {
     "data": {
      "text/html": [
       "<div>\n",
       "<style scoped>\n",
       "    .dataframe tbody tr th:only-of-type {\n",
       "        vertical-align: middle;\n",
       "    }\n",
       "\n",
       "    .dataframe tbody tr th {\n",
       "        vertical-align: top;\n",
       "    }\n",
       "\n",
       "    .dataframe thead th {\n",
       "        text-align: right;\n",
       "    }\n",
       "</style>\n",
       "<table border=\"1\" class=\"dataframe\">\n",
       "  <thead>\n",
       "    <tr style=\"text-align: right;\">\n",
       "      <th></th>\n",
       "      <th>Date</th>\n",
       "      <th>Close</th>\n",
       "    </tr>\n",
       "  </thead>\n",
       "  <tbody>\n",
       "    <tr>\n",
       "      <th>1836</th>\n",
       "      <td>2023-05-10</td>\n",
       "      <td>27621.755859</td>\n",
       "    </tr>\n",
       "    <tr>\n",
       "      <th>1837</th>\n",
       "      <td>2023-05-11</td>\n",
       "      <td>27000.789062</td>\n",
       "    </tr>\n",
       "    <tr>\n",
       "      <th>1838</th>\n",
       "      <td>2023-05-12</td>\n",
       "      <td>26804.990234</td>\n",
       "    </tr>\n",
       "    <tr>\n",
       "      <th>1839</th>\n",
       "      <td>2023-05-13</td>\n",
       "      <td>26784.078125</td>\n",
       "    </tr>\n",
       "    <tr>\n",
       "      <th>1840</th>\n",
       "      <td>2023-05-14</td>\n",
       "      <td>26930.638672</td>\n",
       "    </tr>\n",
       "  </tbody>\n",
       "</table>\n",
       "</div>"
      ],
      "text/plain": [
       "           Date         Close\n",
       "1836 2023-05-10  27621.755859\n",
       "1837 2023-05-11  27000.789062\n",
       "1838 2023-05-12  26804.990234\n",
       "1839 2023-05-13  26784.078125\n",
       "1840 2023-05-14  26930.638672"
      ]
     },
     "execution_count": 57,
     "metadata": {},
     "output_type": "execute_result"
    }
   ],
   "source": [
    "df.tail()"
   ]
  },
  {
   "cell_type": "code",
   "execution_count": 58,
   "id": "9b023efc",
   "metadata": {},
   "outputs": [
    {
     "data": {
      "text/html": [
       "<div>\n",
       "<style scoped>\n",
       "    .dataframe tbody tr th:only-of-type {\n",
       "        vertical-align: middle;\n",
       "    }\n",
       "\n",
       "    .dataframe tbody tr th {\n",
       "        vertical-align: top;\n",
       "    }\n",
       "\n",
       "    .dataframe thead th {\n",
       "        text-align: right;\n",
       "    }\n",
       "</style>\n",
       "<table border=\"1\" class=\"dataframe\">\n",
       "  <thead>\n",
       "    <tr style=\"text-align: right;\">\n",
       "      <th></th>\n",
       "      <th>Date</th>\n",
       "      <th>Close</th>\n",
       "    </tr>\n",
       "  </thead>\n",
       "  <tbody>\n",
       "    <tr>\n",
       "      <th>0</th>\n",
       "      <td>2018-04-30</td>\n",
       "      <td>9240.549805</td>\n",
       "    </tr>\n",
       "    <tr>\n",
       "      <th>1</th>\n",
       "      <td>2018-05-01</td>\n",
       "      <td>9119.009766</td>\n",
       "    </tr>\n",
       "    <tr>\n",
       "      <th>2</th>\n",
       "      <td>2018-05-02</td>\n",
       "      <td>9235.919922</td>\n",
       "    </tr>\n",
       "    <tr>\n",
       "      <th>3</th>\n",
       "      <td>2018-05-03</td>\n",
       "      <td>9743.860352</td>\n",
       "    </tr>\n",
       "    <tr>\n",
       "      <th>4</th>\n",
       "      <td>2018-05-04</td>\n",
       "      <td>9700.759766</td>\n",
       "    </tr>\n",
       "    <tr>\n",
       "      <th>...</th>\n",
       "      <td>...</td>\n",
       "      <td>...</td>\n",
       "    </tr>\n",
       "    <tr>\n",
       "      <th>1836</th>\n",
       "      <td>2023-05-10</td>\n",
       "      <td>27621.755859</td>\n",
       "    </tr>\n",
       "    <tr>\n",
       "      <th>1837</th>\n",
       "      <td>2023-05-11</td>\n",
       "      <td>27000.789062</td>\n",
       "    </tr>\n",
       "    <tr>\n",
       "      <th>1838</th>\n",
       "      <td>2023-05-12</td>\n",
       "      <td>26804.990234</td>\n",
       "    </tr>\n",
       "    <tr>\n",
       "      <th>1839</th>\n",
       "      <td>2023-05-13</td>\n",
       "      <td>26784.078125</td>\n",
       "    </tr>\n",
       "    <tr>\n",
       "      <th>1840</th>\n",
       "      <td>2023-05-14</td>\n",
       "      <td>26930.638672</td>\n",
       "    </tr>\n",
       "  </tbody>\n",
       "</table>\n",
       "<p>1841 rows × 2 columns</p>\n",
       "</div>"
      ],
      "text/plain": [
       "           Date         Close\n",
       "0    2018-04-30   9240.549805\n",
       "1    2018-05-01   9119.009766\n",
       "2    2018-05-02   9235.919922\n",
       "3    2018-05-03   9743.860352\n",
       "4    2018-05-04   9700.759766\n",
       "...         ...           ...\n",
       "1836 2023-05-10  27621.755859\n",
       "1837 2023-05-11  27000.789062\n",
       "1838 2023-05-12  26804.990234\n",
       "1839 2023-05-13  26784.078125\n",
       "1840 2023-05-14  26930.638672\n",
       "\n",
       "[1841 rows x 2 columns]"
      ]
     },
     "execution_count": 58,
     "metadata": {},
     "output_type": "execute_result"
    }
   ],
   "source": [
    "data1 = df[['Date', 'Close']]\n",
    "data1"
   ]
  },
  {
   "cell_type": "code",
   "execution_count": 59,
   "id": "d339622a",
   "metadata": {},
   "outputs": [],
   "source": [
    "data = data1.set_index('Date')\n",
    "#daa.sort_index(inplace=True)"
   ]
  },
  {
   "cell_type": "code",
   "execution_count": 6,
   "id": "f69db4c0",
   "metadata": {},
   "outputs": [
    {
     "data": {
      "text/html": [
       "<div>\n",
       "<style scoped>\n",
       "    .dataframe tbody tr th:only-of-type {\n",
       "        vertical-align: middle;\n",
       "    }\n",
       "\n",
       "    .dataframe tbody tr th {\n",
       "        vertical-align: top;\n",
       "    }\n",
       "\n",
       "    .dataframe thead th {\n",
       "        text-align: right;\n",
       "    }\n",
       "</style>\n",
       "<table border=\"1\" class=\"dataframe\">\n",
       "  <thead>\n",
       "    <tr style=\"text-align: right;\">\n",
       "      <th></th>\n",
       "      <th>Close</th>\n",
       "    </tr>\n",
       "    <tr>\n",
       "      <th>Date</th>\n",
       "      <th></th>\n",
       "    </tr>\n",
       "  </thead>\n",
       "  <tbody>\n",
       "    <tr>\n",
       "      <th>2018-04-30</th>\n",
       "      <td>9240.549805</td>\n",
       "    </tr>\n",
       "    <tr>\n",
       "      <th>2018-05-01</th>\n",
       "      <td>9119.009766</td>\n",
       "    </tr>\n",
       "    <tr>\n",
       "      <th>2018-05-02</th>\n",
       "      <td>9235.919922</td>\n",
       "    </tr>\n",
       "    <tr>\n",
       "      <th>2018-05-03</th>\n",
       "      <td>9743.860352</td>\n",
       "    </tr>\n",
       "    <tr>\n",
       "      <th>2018-05-04</th>\n",
       "      <td>9700.759766</td>\n",
       "    </tr>\n",
       "  </tbody>\n",
       "</table>\n",
       "</div>"
      ],
      "text/plain": [
       "                  Close\n",
       "Date                   \n",
       "2018-04-30  9240.549805\n",
       "2018-05-01  9119.009766\n",
       "2018-05-02  9235.919922\n",
       "2018-05-03  9743.860352\n",
       "2018-05-04  9700.759766"
      ]
     },
     "execution_count": 6,
     "metadata": {},
     "output_type": "execute_result"
    }
   ],
   "source": [
    "data.head()"
   ]
  },
  {
   "cell_type": "code",
   "execution_count": 7,
   "id": "8ab84ec9",
   "metadata": {},
   "outputs": [
    {
     "data": {
      "text/plain": [
       "Close    0\n",
       "dtype: int64"
      ]
     },
     "execution_count": 7,
     "metadata": {},
     "output_type": "execute_result"
    }
   ],
   "source": [
    "data.isna().sum()"
   ]
  },
  {
   "cell_type": "code",
   "execution_count": 8,
   "id": "2829ced5",
   "metadata": {},
   "outputs": [
    {
     "data": {
      "text/plain": [
       "count     1841.000000\n",
       "mean     21331.983589\n",
       "std      16740.421878\n",
       "min       3236.761719\n",
       "25%       7951.580078\n",
       "50%      14833.753906\n",
       "75%      33560.707031\n",
       "max      67566.828125\n",
       "Name: Close, dtype: float64"
      ]
     },
     "execution_count": 8,
     "metadata": {},
     "output_type": "execute_result"
    }
   ],
   "source": [
    "data['Close'].describe()"
   ]
  },
  {
   "cell_type": "markdown",
   "id": "39414aef",
   "metadata": {},
   "source": [
    "#### 2.1 Visualizing the Closing Price"
   ]
  },
  {
   "cell_type": "code",
   "execution_count": 60,
   "id": "6810ee29",
   "metadata": {},
   "outputs": [
    {
     "data": {
      "image/png": "[encoded data removed]",
      "text/plain": [
       "<Figure size 432x288 with 1 Axes>"
      ]
     },
     "metadata": {
      "needs_background": "light"
     },
     "output_type": "display_data"
    }
   ],
   "source": [
    "plt.plot(data)\n",
    "plt.xlabel('Date', fontsize=12)\n",
    "plt.ylabel('Price', fontsize=12)\n",
    "plt.title('Closing rice Distribution Of Bitcoin')\n",
    "plt.show()"
   ]
  },
  {
   "cell_type": "markdown",
   "id": "c5b4ed7d",
   "metadata": {},
   "source": [
    "#### 2.2 White Noise\n",
    "\n",
    "A series is called WN when it follows IID with mean=0"
   ]
  },
  {
   "cell_type": "code",
   "execution_count": 10,
   "id": "1fcf0720",
   "metadata": {},
   "outputs": [],
   "source": [
    "white_noise = np.random.normal(loc=data.Close.mean(), scale = data.Close.std(), size = len(df))\n",
    "data[\"WN_Close\"] = white_noise"
   ]
  },
  {
   "cell_type": "code",
   "execution_count": 11,
   "id": "ec257bd2",
   "metadata": {},
   "outputs": [
    {
     "data": {
      "text/plain": [
       "count     1841.000000\n",
       "mean     20998.938645\n",
       "std      16952.915467\n",
       "min     -36095.918894\n",
       "25%       9250.262212\n",
       "50%      21082.967620\n",
       "75%      32252.619274\n",
       "max      83651.197778\n",
       "Name: WN_Close, dtype: float64"
      ]
     },
     "execution_count": 11,
     "metadata": {},
     "output_type": "execute_result"
    }
   ],
   "source": [
    "data[\"WN_Close\"].describe()"
   ]
  },
  {
   "cell_type": "code",
   "execution_count": 12,
   "id": "11384e8e",
   "metadata": {},
   "outputs": [
    {
     "data": {
      "image/png": "[encoded data removed]",
      "text/plain": [
       "<Figure size 432x288 with 1 Axes>"
      ]
     },
     "metadata": {
      "needs_background": "light"
     },
     "output_type": "display_data"
    },
    {
     "data": {
      "text/plain": [
       "<Figure size 1008x576 with 0 Axes>"
      ]
     },
     "metadata": {},
     "output_type": "display_data"
    }
   ],
   "source": [
    "plt.plot(data['WN_Close'], label=\"White Noise\")\n",
    "plt.xticks(rotation=45)\n",
    "plt.figure(figsize = (14,8))\n",
    "plt.show()"
   ]
  },
  {
   "cell_type": "markdown",
   "id": "ce142e5f",
   "metadata": {},
   "source": [
    "#### 2.3 Percentage Change \n",
    "\n",
    "= ((Yt - Yt-1)/Yt-1)*100"
   ]
  },
  {
   "cell_type": "code",
   "execution_count": 61,
   "id": "9c3c352c",
   "metadata": {},
   "outputs": [],
   "source": [
    "data[\"Close_pct\"] = data.Close.pct_change(1).mul(100)"
   ]
  },
  {
   "cell_type": "code",
   "execution_count": 62,
   "id": "30cd3c6d",
   "metadata": {},
   "outputs": [
    {
     "data": {
      "image/png": "[encoded data removed]",
      "text/plain": [
       "<Figure size 432x288 with 1 Axes>"
      ]
     },
     "metadata": {
      "needs_background": "light"
     },
     "output_type": "display_data"
    },
    {
     "data": {
      "text/plain": [
       "<Figure size 864x288 with 0 Axes>"
      ]
     },
     "metadata": {},
     "output_type": "display_data"
    }
   ],
   "source": [
    "plt.plot(data[\"Close_pct\"])\n",
    "plt.xticks(rotation=45)\n",
    "plt.figure(figsize = (12,4))\n",
    "plt.show()"
   ]
  },
  {
   "cell_type": "markdown",
   "id": "9c87b639",
   "metadata": {},
   "source": [
    "#### 2.4 Normalized Value of Close and Z Score of Close\n",
    "\n",
    "Normalized Score = [ Xi/base(X1))]*100\n",
    "\n",
    "Z Score = ((X1 - Mean(X))/std(X)"
   ]
  },
  {
   "cell_type": "code",
   "execution_count": 63,
   "id": "3557ea64",
   "metadata": {},
   "outputs": [],
   "source": [
    "base_value = data.Close.iloc[0]\n",
    "data[\"Close_norm\"] = data.Close.div(base_value).mul(100)"
   ]
  },
  {
   "cell_type": "code",
   "execution_count": 64,
   "id": "f6d23bed",
   "metadata": {},
   "outputs": [],
   "source": [
    "mean_dev = data.Close.sub(data.Close.mean())\n",
    "data[\"Z_Close\"] = mean_dev.div(data.Close.std())"
   ]
  },
  {
   "cell_type": "markdown",
   "id": "8445ecbe",
   "metadata": {},
   "source": [
    "### 3. Remove trend and seasonality with differencing\n",
    "\n",
    "In case of differencing to make the time series stationary the current value is subtracted with the previous values. Due to this the mean is stabilized and hence the chances of stationarity of time series are increased."
   ]
  },
  {
   "cell_type": "code",
   "execution_count": 71,
   "id": "44f3288c",
   "metadata": {},
   "outputs": [],
   "source": [
    "data[\"Close_diff\"]= data.Close.diff().dropna()"
   ]
  },
  {
   "cell_type": "code",
   "execution_count": 72,
   "id": "e5fc2bfe",
   "metadata": {},
   "outputs": [
    {
     "data": {
      "text/html": [
       "<div>\n",
       "<style scoped>\n",
       "    .dataframe tbody tr th:only-of-type {\n",
       "        vertical-align: middle;\n",
       "    }\n",
       "\n",
       "    .dataframe tbody tr th {\n",
       "        vertical-align: top;\n",
       "    }\n",
       "\n",
       "    .dataframe thead th {\n",
       "        text-align: right;\n",
       "    }\n",
       "</style>\n",
       "<table border=\"1\" class=\"dataframe\">\n",
       "  <thead>\n",
       "    <tr style=\"text-align: right;\">\n",
       "      <th></th>\n",
       "      <th>Close</th>\n",
       "      <th>Close_pct</th>\n",
       "      <th>Close_norm</th>\n",
       "      <th>Z_Close</th>\n",
       "      <th>Close_diff</th>\n",
       "    </tr>\n",
       "    <tr>\n",
       "      <th>Date</th>\n",
       "      <th></th>\n",
       "      <th></th>\n",
       "      <th></th>\n",
       "      <th></th>\n",
       "      <th></th>\n",
       "    </tr>\n",
       "  </thead>\n",
       "  <tbody>\n",
       "    <tr>\n",
       "      <th>2018-04-30</th>\n",
       "      <td>9240.549805</td>\n",
       "      <td>NaN</td>\n",
       "      <td>100.000000</td>\n",
       "      <td>-0.722290</td>\n",
       "      <td>NaN</td>\n",
       "    </tr>\n",
       "    <tr>\n",
       "      <th>2018-05-01</th>\n",
       "      <td>9119.009766</td>\n",
       "      <td>-1.315290</td>\n",
       "      <td>98.684710</td>\n",
       "      <td>-0.729550</td>\n",
       "      <td>-121.540039</td>\n",
       "    </tr>\n",
       "    <tr>\n",
       "      <th>2018-05-02</th>\n",
       "      <td>9235.919922</td>\n",
       "      <td>1.282049</td>\n",
       "      <td>99.949896</td>\n",
       "      <td>-0.722566</td>\n",
       "      <td>116.910156</td>\n",
       "    </tr>\n",
       "    <tr>\n",
       "      <th>2018-05-03</th>\n",
       "      <td>9743.860352</td>\n",
       "      <td>5.499619</td>\n",
       "      <td>105.446760</td>\n",
       "      <td>-0.692224</td>\n",
       "      <td>507.940430</td>\n",
       "    </tr>\n",
       "    <tr>\n",
       "      <th>2018-05-04</th>\n",
       "      <td>9700.759766</td>\n",
       "      <td>-0.442336</td>\n",
       "      <td>104.980331</td>\n",
       "      <td>-0.694799</td>\n",
       "      <td>-43.100586</td>\n",
       "    </tr>\n",
       "  </tbody>\n",
       "</table>\n",
       "</div>"
      ],
      "text/plain": [
       "                  Close  Close_pct  Close_norm   Z_Close  Close_diff\n",
       "Date                                                                \n",
       "2018-04-30  9240.549805        NaN  100.000000 -0.722290         NaN\n",
       "2018-05-01  9119.009766  -1.315290   98.684710 -0.729550 -121.540039\n",
       "2018-05-02  9235.919922   1.282049   99.949896 -0.722566  116.910156\n",
       "2018-05-03  9743.860352   5.499619  105.446760 -0.692224  507.940430\n",
       "2018-05-04  9700.759766  -0.442336  104.980331 -0.694799  -43.100586"
      ]
     },
     "execution_count": 72,
     "metadata": {},
     "output_type": "execute_result"
    }
   ],
   "source": [
    "data.head()"
   ]
  },
  {
   "cell_type": "code",
   "execution_count": 73,
   "id": "e1829c63",
   "metadata": {},
   "outputs": [],
   "source": [
    "data = data.iloc[1:]"
   ]
  },
  {
   "cell_type": "code",
   "execution_count": 74,
   "id": "d1e56356",
   "metadata": {},
   "outputs": [
    {
     "data": {
      "text/html": [
       "<div>\n",
       "<style scoped>\n",
       "    .dataframe tbody tr th:only-of-type {\n",
       "        vertical-align: middle;\n",
       "    }\n",
       "\n",
       "    .dataframe tbody tr th {\n",
       "        vertical-align: top;\n",
       "    }\n",
       "\n",
       "    .dataframe thead th {\n",
       "        text-align: right;\n",
       "    }\n",
       "</style>\n",
       "<table border=\"1\" class=\"dataframe\">\n",
       "  <thead>\n",
       "    <tr style=\"text-align: right;\">\n",
       "      <th></th>\n",
       "      <th>Close</th>\n",
       "      <th>Close_pct</th>\n",
       "      <th>Close_norm</th>\n",
       "      <th>Z_Close</th>\n",
       "      <th>Close_diff</th>\n",
       "    </tr>\n",
       "    <tr>\n",
       "      <th>Date</th>\n",
       "      <th></th>\n",
       "      <th></th>\n",
       "      <th></th>\n",
       "      <th></th>\n",
       "      <th></th>\n",
       "    </tr>\n",
       "  </thead>\n",
       "  <tbody>\n",
       "    <tr>\n",
       "      <th>2018-05-01</th>\n",
       "      <td>9119.009766</td>\n",
       "      <td>-1.315290</td>\n",
       "      <td>98.684710</td>\n",
       "      <td>-0.729550</td>\n",
       "      <td>-121.540039</td>\n",
       "    </tr>\n",
       "    <tr>\n",
       "      <th>2018-05-02</th>\n",
       "      <td>9235.919922</td>\n",
       "      <td>1.282049</td>\n",
       "      <td>99.949896</td>\n",
       "      <td>-0.722566</td>\n",
       "      <td>116.910156</td>\n",
       "    </tr>\n",
       "    <tr>\n",
       "      <th>2018-05-03</th>\n",
       "      <td>9743.860352</td>\n",
       "      <td>5.499619</td>\n",
       "      <td>105.446760</td>\n",
       "      <td>-0.692224</td>\n",
       "      <td>507.940430</td>\n",
       "    </tr>\n",
       "    <tr>\n",
       "      <th>2018-05-04</th>\n",
       "      <td>9700.759766</td>\n",
       "      <td>-0.442336</td>\n",
       "      <td>104.980331</td>\n",
       "      <td>-0.694799</td>\n",
       "      <td>-43.100586</td>\n",
       "    </tr>\n",
       "    <tr>\n",
       "      <th>2018-05-05</th>\n",
       "      <td>9858.150391</td>\n",
       "      <td>1.622457</td>\n",
       "      <td>106.683591</td>\n",
       "      <td>-0.685397</td>\n",
       "      <td>157.390625</td>\n",
       "    </tr>\n",
       "  </tbody>\n",
       "</table>\n",
       "</div>"
      ],
      "text/plain": [
       "                  Close  Close_pct  Close_norm   Z_Close  Close_diff\n",
       "Date                                                                \n",
       "2018-05-01  9119.009766  -1.315290   98.684710 -0.729550 -121.540039\n",
       "2018-05-02  9235.919922   1.282049   99.949896 -0.722566  116.910156\n",
       "2018-05-03  9743.860352   5.499619  105.446760 -0.692224  507.940430\n",
       "2018-05-04  9700.759766  -0.442336  104.980331 -0.694799  -43.100586\n",
       "2018-05-05  9858.150391   1.622457  106.683591 -0.685397  157.390625"
      ]
     },
     "execution_count": 74,
     "metadata": {},
     "output_type": "execute_result"
    }
   ],
   "source": [
    "data.head()"
   ]
  },
  {
   "cell_type": "markdown",
   "id": "6366d943",
   "metadata": {},
   "source": [
    "### 4. Plotting the Graphs \n",
    "\n",
    "=> for Z score Closing prices,Normalized Closing Price,  1st order differenced Closing Prices, percent change in Closing Prices"
   ]
  },
  {
   "cell_type": "code",
   "execution_count": 75,
   "id": "5f1a1b7c",
   "metadata": {},
   "outputs": [
    {
     "data": {
      "image/png": "[encoded data removed]",
      "text/plain": [
       "<Figure size 432x288 with 1 Axes>"
      ]
     },
     "metadata": {
      "needs_background": "light"
     },
     "output_type": "display_data"
    },
    {
     "data": {
      "text/plain": [
       "<Figure size 864x288 with 0 Axes>"
      ]
     },
     "metadata": {},
     "output_type": "display_data"
    }
   ],
   "source": [
    "# z-score closing price\n",
    "plt.plot(data[\"Z_Close\"])\n",
    "plt.xticks(rotation=45)\n",
    "plt.figure(figsize = (12,4))\n",
    "plt.show()"
   ]
  },
  {
   "cell_type": "code",
   "execution_count": 76,
   "id": "879c2999",
   "metadata": {},
   "outputs": [
    {
     "data": {
      "image/png": "[encoded data removed]",
      "text/plain": [
       "<Figure size 432x288 with 1 Axes>"
      ]
     },
     "metadata": {
      "needs_background": "light"
     },
     "output_type": "display_data"
    },
    {
     "data": {
      "text/plain": [
       "<Figure size 864x288 with 0 Axes>"
      ]
     },
     "metadata": {},
     "output_type": "display_data"
    }
   ],
   "source": [
    "# Normalized Closing Price\n",
    "plt.plot(data[\"Close_norm\"])\n",
    "plt.xticks(rotation=45)\n",
    "plt.figure(figsize = (12,4))\n",
    "plt.show()"
   ]
  },
  {
   "cell_type": "code",
   "execution_count": 77,
   "id": "79f6d2a3",
   "metadata": {},
   "outputs": [
    {
     "data": {
      "image/png": "[encoded data removed]",
      "text/plain": [
       "<Figure size 432x288 with 1 Axes>"
      ]
     },
     "metadata": {
      "needs_background": "light"
     },
     "output_type": "display_data"
    },
    {
     "data": {
      "text/plain": [
       "<Figure size 864x288 with 0 Axes>"
      ]
     },
     "metadata": {},
     "output_type": "display_data"
    }
   ],
   "source": [
    "# 1st Ordered Differenced Closing Price\n",
    "plt.plot(data[\"Close_diff\"])\n",
    "plt.xticks(rotation=45)\n",
    "plt.figure(figsize = (12,4))\n",
    "plt.show()"
   ]
  },
  {
   "cell_type": "code",
   "execution_count": 78,
   "id": "e34243f3",
   "metadata": {},
   "outputs": [
    {
     "data": {
      "image/png": "[encoded data removed]",
      "text/plain": [
       "<Figure size 432x288 with 1 Axes>"
      ]
     },
     "metadata": {
      "needs_background": "light"
     },
     "output_type": "display_data"
    },
    {
     "data": {
      "text/plain": [
       "<Figure size 864x288 with 0 Axes>"
      ]
     },
     "metadata": {},
     "output_type": "display_data"
    }
   ],
   "source": [
    "# Percent Change in Cosing Prices\n",
    "plt.plot(data[\"Close_pct\"])\n",
    "plt.xticks(rotation=45)\n",
    "plt.figure(figsize = (12,4))\n",
    "plt.show()"
   ]
  },
  {
   "cell_type": "markdown",
   "id": "6dd7ef25",
   "metadata": {},
   "source": [
    "### 5. Testing the Stationarity using Augmented Dicky Fuller Test:\n",
    "\n",
    "The Augmented Dicky Fuller test is a type of statistical test called a unit root test.\n",
    "\n",
    "The intuition behind a unit root test is that it determines how strongly a time series is defined by a trend.\n",
    "\n",
    "There are no. of unit root tests and ADF is one of the most widely used\n",
    "\n",
    "1. Null Hypothesis (H0): Null hypothesis of the test is that the time series can be represented by a unit root that is not stationary.\n",
    "\n",
    "2. Alternative Hypothesis (H1): Alternative Hypothesis of the test is that the time series is stationary.\n",
    "\n",
    "Interpretation of p value\n",
    "\n",
    "1. p value > 0.05 : Accepts the Null Hypothesis (H0), the data has a unit root and is non-stationary.\n",
    "\n",
    "2. p value < = 0.05 : Rejects the Null Hypothesis (H0), the data is stationary."
   ]
  },
  {
   "cell_type": "code",
   "execution_count": 79,
   "id": "77c9c2de",
   "metadata": {},
   "outputs": [],
   "source": [
    "def test_stationarity(x):\n",
    "\n",
    "    #Perform Dickey Fuller test        \n",
    "    print('Results of Dickey-Fuller Test:')\n",
    "    result = adfuller(x, autolag='AIC')\n",
    "    df_result = pd.Series(result[0:4], index=['Test Statistic','p-value','Number of Lags Used','Number of Observations Used'])\n",
    "    print (df_result)"
   ]
  },
  {
   "cell_type": "code",
   "execution_count": 80,
   "id": "738af6d6",
   "metadata": {},
   "outputs": [
    {
     "name": "stdout",
     "output_type": "stream",
     "text": [
      "Close\n",
      "Results of Dickey-Fuller Test:\n",
      "Test Statistic                   -1.460430\n",
      "p-value                           0.552987\n",
      "Number of Lags Used              24.000000\n",
      "Number of Observations Used    1815.000000\n",
      "dtype: float64\n",
      "\n",
      "\n",
      "Close_pct\n",
      "Results of Dickey-Fuller Test:\n",
      "Test Statistic                  -29.698503\n",
      "p-value                           0.000000\n",
      "Number of Lags Used               1.000000\n",
      "Number of Observations Used    1838.000000\n",
      "dtype: float64\n",
      "\n",
      "\n",
      "Close_norm\n",
      "Results of Dickey-Fuller Test:\n",
      "Test Statistic                   -1.460430\n",
      "p-value                           0.552987\n",
      "Number of Lags Used              24.000000\n",
      "Number of Observations Used    1815.000000\n",
      "dtype: float64\n",
      "\n",
      "\n",
      "Z_Close\n",
      "Results of Dickey-Fuller Test:\n",
      "Test Statistic                   -1.460430\n",
      "p-value                           0.552987\n",
      "Number of Lags Used              24.000000\n",
      "Number of Observations Used    1815.000000\n",
      "dtype: float64\n",
      "\n",
      "\n",
      "Close_diff\n",
      "Results of Dickey-Fuller Test:\n",
      "Test Statistic                -8.450532e+00\n",
      "p-value                        1.667122e-13\n",
      "Number of Lags Used            2.300000e+01\n",
      "Number of Observations Used    1.816000e+03\n",
      "dtype: float64\n",
      "\n",
      "\n"
     ]
    }
   ],
   "source": [
    "for i in data.columns:\n",
    "    print(i)\n",
    "    test_stationarity(data[i])\n",
    "    print(\"\\n\")"
   ]
  },
  {
   "cell_type": "markdown",
   "id": "ea98e6c9",
   "metadata": {},
   "source": [
    "Since the Close_diff series is the series of our major interest  and the 1st order differencing of the series has made the series stationary, we go ahead with plot ACF and PACF for the same."
   ]
  },
  {
   "cell_type": "markdown",
   "id": "3040c7e4",
   "metadata": {},
   "source": [
    "### 6. Plotting the ACF and PACF plot for the data"
   ]
  },
  {
   "cell_type": "markdown",
   "id": "375c266b",
   "metadata": {},
   "source": [
    "### ACF \n",
    "\n",
    "The degree of resemblance between a certain time series and a lagged version of itself over subsequent time intervals is represented mathematically as autocorrelation (ACF). Autocorrelation is similar to the correlation between two different time series in theory, but it uses the same time series twice: once in its original form and again with one or more time periods added.\n",
    "\n",
    "### PACF\n",
    "A partial autocorrelation (PACF), on the other hand, is a description of the relationship between an observation in a time series and data from earlier time steps that do not take into account the correlations between the intervening observations. The correlation between observations at successive time steps is a linear function of the indirect correlations. These indirect connections are eliminated using the partial autocorrelation function.\n",
    "\n",
    "ACF helps us identify the order for MA model whereas PACF helps us identify the order for AR model"
   ]
  },
  {
   "cell_type": "code",
   "execution_count": 82,
   "id": "4a39a27a",
   "metadata": {},
   "outputs": [
    {
     "data": {
      "image/png": "[encoded data removed]",
      "text/plain": [
       "<Figure size 432x288 with 1 Axes>"
      ]
     },
     "metadata": {
      "needs_background": "light"
     },
     "output_type": "display_data"
    }
   ],
   "source": [
    "# ACF of the Closing Prices\n",
    "sgt.plot_acf(data.Close, lags = 50, zero = False) #default lags=25\n",
    "plt.title(\"Autocorrelation plot of Closing prices\")\n",
    "plt.show()"
   ]
  },
  {
   "cell_type": "markdown",
   "id": "6e10aa27",
   "metadata": {},
   "source": [
    "The above ACF plot shows high correlation because each time stamp has some information about the initial time stamp. Hence the lags show a slow decaying behavior. This is because the series has not been differenced for stationarity."
   ]
  },
  {
   "cell_type": "code",
   "execution_count": 28,
   "id": "aaa08c06",
   "metadata": {},
   "outputs": [
    {
     "data": {
      "image/png": "[encoded data removed]",
      "text/plain": [
       "<Figure size 432x288 with 1 Axes>"
      ]
     },
     "metadata": {
      "needs_background": "light"
     },
     "output_type": "display_data"
    }
   ],
   "source": [
    "# ACF of Differenced Closing Prices\n",
    "sgt.plot_acf(data.Close.diff().dropna(), lags = 50, zero = False)\n",
    "plt.title(\"Autocorrelation plot of Differenced Closing prices\")\n",
    "plt.show()"
   ]
  },
  {
   "cell_type": "code",
   "execution_count": 83,
   "id": "af781e47",
   "metadata": {},
   "outputs": [
    {
     "data": {
      "image/png": "[encoded data removed]",
      "text/plain": [
       "<Figure size 432x288 with 1 Axes>"
      ]
     },
     "metadata": {
      "needs_background": "light"
     },
     "output_type": "display_data"
    }
   ],
   "source": [
    "# PACF plot of Closing Prices\n",
    "sgt.plot_pacf(data.Close, lags = 50, zero = False)\n",
    "plt.title(\"Partial Autocorrelation plot of Closing prices\")\n",
    "plt.show()"
   ]
  },
  {
   "cell_type": "code",
   "execution_count": 84,
   "id": "d784501e",
   "metadata": {},
   "outputs": [
    {
     "data": {
      "image/png": "[encoded data removed]",
      "text/plain": [
       "<Figure size 432x288 with 1 Axes>"
      ]
     },
     "metadata": {
      "needs_background": "light"
     },
     "output_type": "display_data"
    }
   ],
   "source": [
    "# PACF plot of Differenced Closing Prices\n",
    "\n",
    "sgt.plot_pacf(data.Close_diff, lags = 50, zero = False)\n",
    "plt.title(\"Partial Autocorrelation plot of Differenced Closing prices\")\n",
    "plt.show()"
   ]
  },
  {
   "cell_type": "markdown",
   "id": "fa405d7d",
   "metadata": {},
   "source": [
    "From the above graph, we can see that we have significant information until the 8th and 9th lag values."
   ]
  },
  {
   "cell_type": "markdown",
   "id": "e3cde9d1",
   "metadata": {},
   "source": [
    "### 8. Split the data"
   ]
  },
  {
   "cell_type": "markdown",
   "id": "f2359a40",
   "metadata": {},
   "source": [
    "We now **Split** the data into Train and Test, keeping 20% of the observations in the test set. Considering the series **Close_diff** which containing the values for first order differencing"
   ]
  },
  {
   "cell_type": "code",
   "execution_count": 87,
   "id": "3e5b6552",
   "metadata": {},
   "outputs": [
    {
     "name": "stdout",
     "output_type": "stream",
     "text": [
      "(1840, 5)\n",
      "(1472,)\n",
      "(368,)\n"
     ]
    }
   ],
   "source": [
    "training_size = int(len(data)*0.80) \n",
    "\n",
    "train = data['Close_diff'].iloc[:training_size]\n",
    "test = data['Close_diff'].iloc[training_size:]\n",
    "\n",
    "print(data.shape)\n",
    "print(train.shape) \n",
    "print(test.shape)"
   ]
  },
  {
   "cell_type": "markdown",
   "id": "1a787b6f",
   "metadata": {},
   "source": [
    "### 9. Model Building"
   ]
  },
  {
   "cell_type": "markdown",
   "id": "a63b7cac",
   "metadata": {},
   "source": [
    "#### ARIMA\n",
    "\n",
    "ARIMA is a combination of Autoregression (AR), Integrated (I) and Moving average (MA).\n",
    "\n",
    "It is used for non-stationary data series.\n",
    "\n",
    "Autoregression (AR): refers to a model that shows a changing variable that regresses on its own lagged, or prior, values.\n",
    "\n",
    "Integrated (I): represents the differencing of raw observations to allow for the time series to become stationary (i.e., data values are replaced by the difference between the data values and the previous values). Order of Integration is the number of times differencing is required to make the series stationary.\n",
    "\n",
    "Moving average (MA): incorporates the dependency between an observation and a residual error from a moving average model applied to lagged observations.\n",
    "\n",
    "#### Steps to model AR, MA, ARMA:\n",
    "\n",
    "Step 1: Analyze the time series plot to visualize stationarity, trend, Seasonality etc.\n",
    "\n",
    "Step 2: Undertake testing of unit root test through DF, ADF, PP, KPSS etc. (Test for stationarity)\n",
    "\n",
    "Step 3: Analyze both at ACF & PACF for the data both at level and 1st the data difference\n",
    "\n",
    "Step 4: Decide order of AR and MA and finalize the possible of ARMA (p, q) models.\n",
    "\n",
    "Step 5: Estimate the models\n",
    "\n"
   ]
  },
  {
   "cell_type": "markdown",
   "id": "edd69329",
   "metadata": {},
   "source": [
    "#### 9.1 Auto Regressive model\n",
    "\n",
    "Auto regressive model is a time series forecasting model where current values are dependent on past values.\n",
    "\n",
    "Since the PACF plot showed significance at 8th and 9th lag values, we will look at AR model of order 8 and 9"
   ]
  },
  {
   "cell_type": "code",
   "execution_count": 32,
   "id": "3b310227",
   "metadata": {},
   "outputs": [
    {
     "name": "stdout",
     "output_type": "stream",
     "text": [
      "                               SARIMAX Results                                \n",
      "==============================================================================\n",
      "Dep. Variable:             Close_diff   No. Observations:                 1472\n",
      "Model:                 ARIMA(8, 1, 0)   Log Likelihood              -12404.389\n",
      "Date:                Tue, 08 Aug 2023   AIC                          24826.777\n",
      "Time:                        19:21:02   BIC                          24874.420\n",
      "Sample:                    05-01-2018   HQIC                         24844.543\n",
      "                         - 05-11-2022                                         \n",
      "Covariance Type:                  opg                                         \n",
      "==============================================================================\n",
      "                 coef    std err          z      P>|z|      [0.025      0.975]\n",
      "------------------------------------------------------------------------------\n",
      "ar.L1         -0.9257      0.017    -56.071      0.000      -0.958      -0.893\n",
      "ar.L2         -0.8149      0.023    -35.558      0.000      -0.860      -0.770\n",
      "ar.L3         -0.6916      0.026    -26.955      0.000      -0.742      -0.641\n",
      "ar.L4         -0.5415      0.028    -19.427      0.000      -0.596      -0.487\n",
      "ar.L5         -0.4389      0.028    -15.623      0.000      -0.494      -0.384\n",
      "ar.L6         -0.2991      0.026    -11.614      0.000      -0.350      -0.249\n",
      "ar.L7         -0.2501      0.022    -11.522      0.000      -0.293      -0.208\n",
      "ar.L8         -0.1880      0.017    -11.062      0.000      -0.221      -0.155\n",
      "sigma2      1.241e+06   2.03e+04     61.160      0.000     1.2e+06    1.28e+06\n",
      "===================================================================================\n",
      "Ljung-Box (L1) (Q):                   0.75   Jarque-Bera (JB):              4680.93\n",
      "Prob(Q):                              0.39   Prob(JB):                         0.00\n",
      "Heteroskedasticity (H):              36.24   Skew:                            -0.18\n",
      "Prob(H) (two-sided):                  0.00   Kurtosis:                        11.73\n",
      "===================================================================================\n",
      "\n",
      "Warnings:\n",
      "[1] Covariance matrix calculated using the outer product of gradients (complex-step).\n"
     ]
    }
   ],
   "source": [
    "ar8 = ARIMA(train, order = (8,1,0)) # Since 1st order differencing was performed\n",
    "result_ar8 = ar8.fit()\n",
    "print(result_ar8.summary())"
   ]
  },
  {
   "cell_type": "code",
   "execution_count": 33,
   "id": "fc85ef44",
   "metadata": {},
   "outputs": [
    {
     "name": "stdout",
     "output_type": "stream",
     "text": [
      "                               SARIMAX Results                                \n",
      "==============================================================================\n",
      "Dep. Variable:             Close_diff   No. Observations:                 1472\n",
      "Model:                 ARIMA(9, 1, 0)   Log Likelihood              -12393.996\n",
      "Date:                Tue, 08 Aug 2023   AIC                          24807.991\n",
      "Time:                        19:21:02   BIC                          24860.928\n",
      "Sample:                    05-01-2018   HQIC                         24827.732\n",
      "                         - 05-11-2022                                         \n",
      "Covariance Type:                  opg                                         \n",
      "==============================================================================\n",
      "                 coef    std err          z      P>|z|      [0.025      0.975]\n",
      "------------------------------------------------------------------------------\n",
      "ar.L1         -0.9480      0.017    -56.971      0.000      -0.981      -0.915\n",
      "ar.L2         -0.8446      0.024    -35.913      0.000      -0.891      -0.799\n",
      "ar.L3         -0.7274      0.026    -27.455      0.000      -0.779      -0.675\n",
      "ar.L4         -0.5934      0.030    -19.956      0.000      -0.652      -0.535\n",
      "ar.L5         -0.5037      0.031    -16.309      0.000      -0.564      -0.443\n",
      "ar.L6         -0.3815      0.029    -13.146      0.000      -0.438      -0.325\n",
      "ar.L7         -0.3469      0.025    -13.717      0.000      -0.396      -0.297\n",
      "ar.L8         -0.2976      0.022    -13.233      0.000      -0.342      -0.254\n",
      "ar.L9         -0.1190      0.017     -7.194      0.000      -0.151      -0.087\n",
      "sigma2      1.225e+06   2.03e+04     60.451      0.000    1.18e+06    1.26e+06\n",
      "===================================================================================\n",
      "Ljung-Box (L1) (Q):                   0.16   Jarque-Bera (JB):              4464.61\n",
      "Prob(Q):                              0.69   Prob(JB):                         0.00\n",
      "Heteroskedasticity (H):              36.79   Skew:                            -0.20\n",
      "Prob(H) (two-sided):                  0.00   Kurtosis:                        11.52\n",
      "===================================================================================\n",
      "\n",
      "Warnings:\n",
      "[1] Covariance matrix calculated using the outer product of gradients (complex-step).\n"
     ]
    }
   ],
   "source": [
    "ar9 = ARIMA(train, order = (9,1,0))\n",
    "result_ar9 = ar9.fit()\n",
    "print(result_ar9.summary())"
   ]
  },
  {
   "cell_type": "markdown",
   "id": "4162304d",
   "metadata": {},
   "source": [
    "#### AIC Values of the model"
   ]
  },
  {
   "cell_type": "code",
   "execution_count": 34,
   "id": "8d2badd5",
   "metadata": {},
   "outputs": [
    {
     "name": "stdout",
     "output_type": "stream",
     "text": [
      "AIC of AR(8) =  24826.77716128291\n",
      "AIC of AR(9) =  24807.99140680203\n"
     ]
    }
   ],
   "source": [
    "print(\"AIC of AR(8) = \", result_ar8.aic)\n",
    "print(\"AIC of AR(9) = \", result_ar9.aic)"
   ]
  },
  {
   "cell_type": "markdown",
   "id": "2831182b",
   "metadata": {},
   "source": [
    "AR(9) model is much significant here due to lower AIC value."
   ]
  },
  {
   "cell_type": "markdown",
   "id": "5ab7f42f",
   "metadata": {},
   "source": [
    "#### 9.2 Moving Average Model\n",
    "\n",
    "In moving average model the series is dependent on past error terms.\n",
    "\n",
    "Since the ACF plot showed significance at 8th and 9th lag values, we will look at MA model of order 8 and 9."
   ]
  },
  {
   "cell_type": "code",
   "execution_count": 35,
   "id": "753cf4ce",
   "metadata": {},
   "outputs": [
    {
     "name": "stdout",
     "output_type": "stream",
     "text": [
      "                               SARIMAX Results                                \n",
      "==============================================================================\n",
      "Dep. Variable:             Close_diff   No. Observations:                 1472\n",
      "Model:                 ARIMA(0, 0, 8)   Log Likelihood              -12348.973\n",
      "Date:                Tue, 08 Aug 2023   AIC                          24717.947\n",
      "Time:                        19:21:03   BIC                          24770.891\n",
      "Sample:                    05-01-2018   HQIC                         24737.689\n",
      "                         - 05-11-2022                                         \n",
      "Covariance Type:                  opg                                         \n",
      "==============================================================================\n",
      "                 coef    std err          z      P>|z|      [0.025      0.975]\n",
      "------------------------------------------------------------------------------\n",
      "const         13.3803     28.722      0.466      0.641     -42.913      69.674\n",
      "ma.L1         -0.0286      0.018     -1.552      0.121      -0.065       0.008\n",
      "ma.L2          0.0157      0.017      0.924      0.355      -0.018       0.049\n",
      "ma.L3          0.0204      0.019      1.082      0.279      -0.017       0.057\n",
      "ma.L4          0.0395      0.016      2.459      0.014       0.008       0.071\n",
      "ma.L5         -0.0062      0.016     -0.381      0.703      -0.038       0.026\n",
      "ma.L6          0.0455      0.016      2.855      0.004       0.014       0.077\n",
      "ma.L7         -0.0644      0.014     -4.447      0.000      -0.093      -0.036\n",
      "ma.L8         -0.0355      0.015     -2.381      0.017      -0.065      -0.006\n",
      "sigma2      1.157e+06    1.9e+04     60.840      0.000    1.12e+06    1.19e+06\n",
      "===================================================================================\n",
      "Ljung-Box (L1) (Q):                   0.01   Jarque-Bera (JB):              4977.11\n",
      "Prob(Q):                              0.91   Prob(JB):                         0.00\n",
      "Heteroskedasticity (H):              38.67   Skew:                            -0.23\n",
      "Prob(H) (two-sided):                  0.00   Kurtosis:                        12.00\n",
      "===================================================================================\n",
      "\n",
      "Warnings:\n",
      "[1] Covariance matrix calculated using the outer product of gradients (complex-step).\n"
     ]
    }
   ],
   "source": [
    "ma8 = ARIMA(train, order = (0,0,8))\n",
    "result_ma8 = ma8.fit()\n",
    "print(result_ma8.summary())"
   ]
  },
  {
   "cell_type": "code",
   "execution_count": 36,
   "id": "9e09cc86",
   "metadata": {},
   "outputs": [
    {
     "name": "stdout",
     "output_type": "stream",
     "text": [
      "                               SARIMAX Results                                \n",
      "==============================================================================\n",
      "Dep. Variable:             Close_diff   No. Observations:                 1472\n",
      "Model:                 ARIMA(0, 0, 9)   Log Likelihood              -12342.940\n",
      "Date:                Tue, 08 Aug 2023   AIC                          24707.881\n",
      "Time:                        19:21:03   BIC                          24766.119\n",
      "Sample:                    05-01-2018   HQIC                         24729.597\n",
      "                         - 05-11-2022                                         \n",
      "Covariance Type:                  opg                                         \n",
      "==============================================================================\n",
      "                 coef    std err          z      P>|z|      [0.025      0.975]\n",
      "------------------------------------------------------------------------------\n",
      "const         13.3803     31.647      0.423      0.672     -48.646      75.407\n",
      "ma.L1         -0.0375      0.018     -2.069      0.039      -0.073      -0.002\n",
      "ma.L2          0.0142      0.017      0.831      0.406      -0.019       0.048\n",
      "ma.L3          0.0349      0.019      1.864      0.062      -0.002       0.072\n",
      "ma.L4          0.0273      0.016      1.728      0.084      -0.004       0.058\n",
      "ma.L5          0.0008      0.016      0.049      0.961      -0.031       0.033\n",
      "ma.L6          0.0535      0.016      3.401      0.001       0.023       0.084\n",
      "ma.L7         -0.0598      0.015     -4.096      0.000      -0.088      -0.031\n",
      "ma.L8         -0.0422      0.015     -2.868      0.004      -0.071      -0.013\n",
      "ma.L9          0.0970      0.017      5.775      0.000       0.064       0.130\n",
      "sigma2       1.15e+06   1.92e+04     60.051      0.000    1.11e+06    1.19e+06\n",
      "===================================================================================\n",
      "Ljung-Box (L1) (Q):                   0.01   Jarque-Bera (JB):              4931.14\n",
      "Prob(Q):                              0.90   Prob(JB):                         0.00\n",
      "Heteroskedasticity (H):              37.44   Skew:                            -0.26\n",
      "Prob(H) (two-sided):                  0.00   Kurtosis:                        11.95\n",
      "===================================================================================\n",
      "\n",
      "Warnings:\n",
      "[1] Covariance matrix calculated using the outer product of gradients (complex-step).\n"
     ]
    }
   ],
   "source": [
    "ma9 = ARIMA(train, order = (0,0,9))\n",
    "result_ma9 = ma9.fit()\n",
    "print(result_ma9.summary())"
   ]
  },
  {
   "cell_type": "code",
   "execution_count": 37,
   "id": "63e958b1",
   "metadata": {},
   "outputs": [
    {
     "name": "stdout",
     "output_type": "stream",
     "text": [
      "AIC of MA(9) =  24717.946908457412\n",
      "AIC of MA(10) =  24707.880762012792\n"
     ]
    }
   ],
   "source": [
    "print(\"AIC of MA(9) = \", result_ma8.aic)\n",
    "print(\"AIC of MA(10) = \", result_ma9.aic)"
   ]
  },
  {
   "cell_type": "markdown",
   "id": "aa42fb22",
   "metadata": {},
   "source": [
    "AR(10) model is much significant here due to lower AIC value."
   ]
  },
  {
   "cell_type": "markdown",
   "id": "670e438c",
   "metadata": {},
   "source": [
    "#### 9.3  Auto Regressive Integrated Moving Average Model\n",
    "\n",
    "It is a combination of both AR and MA models. It makes the time series stationary by itself through the process of differencing. Therefore differencing need not be done explicitly for ARIMA model.\n",
    "\n",
    "We now build ARIMA model of the order ARIMA(9,1, 10)"
   ]
  },
  {
   "cell_type": "code",
   "execution_count": 38,
   "id": "050a78b9",
   "metadata": {},
   "outputs": [
    {
     "name": "stdout",
     "output_type": "stream",
     "text": [
      "                               SARIMAX Results                                \n",
      "==============================================================================\n",
      "Dep. Variable:             Close_diff   No. Observations:                 1472\n",
      "Model:                ARIMA(9, 1, 10)   Log Likelihood              -12321.204\n",
      "Date:                Tue, 08 Aug 2023   AIC                          24682.408\n",
      "Time:                        19:21:12   BIC                          24788.282\n",
      "Sample:                    05-01-2018   HQIC                         24721.888\n",
      "                         - 05-11-2022                                         \n",
      "Covariance Type:                  opg                                         \n",
      "==============================================================================\n",
      "                 coef    std err          z      P>|z|      [0.025      0.975]\n",
      "------------------------------------------------------------------------------\n",
      "ar.L1         -2.5211      0.300     -8.405      0.000      -3.109      -1.933\n",
      "ar.L2         -4.1638      0.568     -7.327      0.000      -5.278      -3.050\n",
      "ar.L3         -5.8686      0.910     -6.446      0.000      -7.653      -4.084\n",
      "ar.L4         -6.3421      1.145     -5.540      0.000      -8.586      -4.098\n",
      "ar.L5         -6.0038      1.135     -5.289      0.000      -8.229      -3.779\n",
      "ar.L6         -4.9980      1.036     -4.824      0.000      -7.028      -2.968\n",
      "ar.L7         -3.0934      0.754     -4.100      0.000      -4.572      -1.615\n",
      "ar.L8         -1.6169      0.394     -4.099      0.000      -2.390      -0.844\n",
      "ar.L9         -0.5917      0.197     -3.005      0.003      -0.978      -0.206\n",
      "ma.L1          1.4850      0.297      5.007      0.000       0.904       2.066\n",
      "ma.L2          1.6208      0.295      5.492      0.000       1.042       2.199\n",
      "ma.L3          1.6809      0.367      4.575      0.000       0.961       2.401\n",
      "ma.L4          0.4762      0.259      1.836      0.066      -0.032       0.984\n",
      "ma.L5         -0.2843      0.159     -1.785      0.074      -0.596       0.028\n",
      "ma.L6         -0.9289      0.172     -5.393      0.000      -1.266      -0.591\n",
      "ma.L7         -1.8675      0.268     -6.964      0.000      -2.393      -1.342\n",
      "ma.L8         -1.5111      0.362     -4.175      0.000      -2.220      -0.802\n",
      "ma.L9         -1.0595      0.222     -4.770      0.000      -1.495      -0.624\n",
      "ma.L10        -0.6116      0.191     -3.205      0.001      -0.986      -0.238\n",
      "sigma2      1.155e+06   3.25e-06   3.56e+11      0.000    1.16e+06    1.16e+06\n",
      "===================================================================================\n",
      "Ljung-Box (L1) (Q):                   0.23   Jarque-Bera (JB):              3667.49\n",
      "Prob(Q):                              0.64   Prob(JB):                         0.00\n",
      "Heteroskedasticity (H):              34.92   Skew:                            -0.34\n",
      "Prob(H) (two-sided):                  0.00   Kurtosis:                        10.70\n",
      "===================================================================================\n",
      "\n",
      "Warnings:\n",
      "[1] Covariance matrix calculated using the outer product of gradients (complex-step).\n",
      "[2] Covariance matrix is singular or near-singular, with condition number 4.59e+27. Standard errors may be unstable.\n"
     ]
    }
   ],
   "source": [
    "ar9_ma10 = ARIMA(train, order = (9,1,10))\n",
    "result_ar9_ma10 = ar9_ma10.fit()\n",
    "print(result_ar9_ma10.summary())"
   ]
  },
  {
   "cell_type": "markdown",
   "id": "7e65592f",
   "metadata": {},
   "source": [
    "#### 9.3(a) - Split the data\n",
    "Next, we will fit the ARIMA model on the training data and make predictions on the testing data."
   ]
  },
  {
   "cell_type": "code",
   "execution_count": 39,
   "id": "2968ddfa",
   "metadata": {},
   "outputs": [
    {
     "name": "stdout",
     "output_type": "stream",
     "text": [
      "(1840, 6)\n",
      "(1656,)\n",
      "(184,)\n"
     ]
    }
   ],
   "source": [
    "training_size = int(len(data)*0.90) \n",
    "\n",
    "train_arima = data['Close'].iloc[:training_size]\n",
    "test_arima = data['Close'].iloc[training_size:]\n",
    "\n",
    "print(data.shape)\n",
    "print(train_arima.shape) \n",
    "print(test_arima.shape)"
   ]
  },
  {
   "cell_type": "code",
   "execution_count": 40,
   "id": "e694f69f",
   "metadata": {
    "scrolled": false
   },
   "outputs": [
    {
     "name": "stdout",
     "output_type": "stream",
     "text": [
      "predicted=16872.775208,expected=16799.185547\n",
      "predicted=16862.183256,expected=16353.365234\n",
      "predicted=16489.932621,expected=16618.199219\n",
      "predicted=16622.173138,expected=16884.613281\n",
      "predicted=17124.714423,expected=16669.439453\n",
      "predicted=16529.659501,expected=16687.517578\n",
      "predicted=16472.949407,expected=16697.777344\n",
      "predicted=16802.527090,expected=16711.546875\n",
      "predicted=16902.595102,expected=16291.832031\n",
      "predicted=16395.655919,expected=15787.284180\n",
      "predicted=15542.588506,expected=16189.769531\n",
      "predicted=16364.044759,expected=16610.707031\n",
      "predicted=16638.803340,expected=16604.464844\n",
      "predicted=16543.946998,expected=16521.841797\n",
      "predicted=16523.317856,expected=16464.281250\n",
      "predicted=16628.823656,expected=16444.626953\n",
      "predicted=16553.151173,expected=16217.322266\n",
      "predicted=16085.860767,expected=16444.982422\n",
      "predicted=16448.159196,expected=17168.566406\n",
      "predicted=17154.524379,expected=16967.132812\n",
      "predicted=17072.140216,expected=17088.660156\n",
      "predicted=16990.722780,expected=16908.236328\n",
      "predicted=16977.984452,expected=17130.486328\n",
      "predicted=17105.668225,expected=16974.826172\n",
      "predicted=17010.949868,expected=17089.503906\n",
      "predicted=16958.937054,expected=16848.126953\n",
      "predicted=16870.798249,expected=17233.474609\n",
      "predicted=17331.730274,expected=17133.152344\n",
      "predicted=17113.272903,expected=17128.724609\n",
      "predicted=17131.466615,expected=17104.193359\n",
      "predicted=17048.363808,expected=17206.437500\n",
      "predicted=17312.573141,expected=17781.318359\n",
      "predicted=17667.433923,expected=17815.650391\n",
      "predicted=17876.567936,expected=17364.865234\n",
      "predicted=17317.834216,expected=16647.484375\n",
      "predicted=16731.968629,expected=16795.091797\n",
      "predicted=16747.595996,expected=16757.976562\n",
      "predicted=16769.080886,expected=16439.679688\n",
      "predicted=16382.633055,expected=16906.304688\n",
      "predicted=16878.964576,expected=16817.535156\n",
      "predicted=16880.180522,expected=16830.341797\n",
      "predicted=16881.111893,expected=16796.953125\n",
      "predicted=16845.897278,expected=16847.755859\n",
      "predicted=16685.914755,expected=16841.986328\n",
      "predicted=16949.658321,expected=16919.804688\n",
      "predicted=16894.379804,expected=16717.173828\n",
      "predicted=16706.336215,expected=16552.572266\n",
      "predicted=16562.056944,expected=16642.341797\n",
      "predicted=16704.183815,expected=16602.585938\n",
      "predicted=16595.840988,expected=16547.496094\n",
      "predicted=16474.141437,expected=16625.080078\n",
      "predicted=16696.456327,expected=16688.470703\n",
      "predicted=16674.842453,expected=16679.857422\n",
      "predicted=16723.056552,expected=16863.238281\n",
      "predicted=16817.014697,expected=16836.736328\n",
      "predicted=16904.465494,expected=16951.968750\n",
      "predicted=16916.922965,expected=16955.078125\n",
      "predicted=16991.262633,expected=17091.144531\n",
      "predicted=17085.909778,expected=17196.554688\n",
      "predicted=17234.662807,expected=17446.292969\n",
      "predicted=17452.600298,expected=17934.896484\n",
      "predicted=17908.351995,expected=18869.587891\n",
      "predicted=18921.233405,expected=19909.574219\n",
      "predicted=19886.587828,expected=20976.298828\n",
      "predicted=21021.451407,expected=20880.798828\n",
      "predicted=20917.292473,expected=21169.632812\n",
      "predicted=21292.284981,expected=21161.519531\n",
      "predicted=21169.852716,expected=20688.781250\n",
      "predicted=20665.971893,expected=21086.792969\n",
      "predicted=21055.625339,expected=22676.552734\n",
      "predicted=22579.880380,expected=22777.625000\n",
      "predicted=22844.133162,expected=22720.416016\n",
      "predicted=22837.988551,expected=22934.431641\n",
      "predicted=22940.265819,expected=22636.468750\n",
      "predicted=22646.115478,expected=23117.859375\n",
      "predicted=23165.308009,expected=23032.777344\n",
      "predicted=22864.030280,expected=23078.728516\n",
      "predicted=22960.329305,expected=23031.089844\n",
      "predicted=23200.362792,expected=23774.566406\n",
      "predicted=23805.263873,expected=22840.138672\n",
      "predicted=22842.234612,expected=23139.283203\n",
      "predicted=23112.285331,expected=23723.769531\n",
      "predicted=23711.335739,expected=23471.871094\n",
      "predicted=23444.976879,expected=23449.322266\n",
      "predicted=23484.079085,expected=23331.847656\n",
      "predicted=23359.578825,expected=22955.666016\n",
      "predicted=22990.436742,expected=22760.109375\n",
      "predicted=22863.334824,expected=23264.291016\n",
      "predicted=23073.075279,expected=22939.398438\n",
      "predicted=22966.335942,expected=21819.039062\n",
      "predicted=21848.275849,expected=21651.183594\n",
      "predicted=21718.892734,expected=21870.875000\n",
      "predicted=21745.470366,expected=21788.203125\n",
      "predicted=21818.914482,expected=21808.101562\n",
      "predicted=21796.997648,expected=22220.804688\n",
      "predicted=22094.381309,expected=24307.841797\n",
      "predicted=24407.940988,expected=23623.474609\n",
      "predicted=23733.633409,expected=24565.601562\n",
      "predicted=24534.599225,expected=24641.277344\n",
      "predicted=24532.510888,expected=24327.642578\n",
      "predicted=24458.547744,expected=24829.148438\n",
      "predicted=24872.907584,expected=24436.353516\n",
      "predicted=24171.498847,expected=24188.843750\n",
      "predicted=24198.894170,expected=23947.492188\n",
      "predicted=24144.950110,expected=23198.126953\n",
      "predicted=23141.770379,expected=23175.375000\n",
      "predicted=23095.197459,expected=23561.212891\n",
      "predicted=23505.810800,expected=23522.871094\n",
      "predicted=23586.405142,expected=23147.353516\n",
      "predicted=23088.761840,expected=23646.550781\n",
      "predicted=23604.507053,expected=23475.466797\n",
      "predicted=23528.750295,expected=22362.679688\n",
      "predicted=22403.022776,expected=22353.349609\n",
      "predicted=22342.626153,expected=22435.513672\n",
      "predicted=22312.930830,expected=22429.757812\n",
      "predicted=22549.778484,expected=22219.769531\n",
      "predicted=22197.613162,expected=21718.080078\n",
      "predicted=21634.159039,expected=20363.021484\n",
      "predicted=20498.351833,expected=20187.244141\n",
      "predicted=20305.733899,expected=20632.410156\n",
      "predicted=20457.349969,expected=22163.949219\n",
      "predicted=22028.530974,expected=24197.533203\n",
      "predicted=24208.721244,expected=24746.074219\n",
      "predicted=24837.436254,expected=24375.960938\n",
      "predicted=24505.786739,expected=25052.789062\n",
      "predicted=25118.572173,expected=27423.929688\n",
      "predicted=27303.531076,expected=26965.878906\n",
      "predicted=26851.969820,expected=28038.675781\n",
      "predicted=27805.329401,expected=27767.236328\n",
      "predicted=27775.501732,expected=28175.816406\n",
      "predicted=28355.202749,expected=27307.437500\n",
      "predicted=27482.713096,expected=28333.972656\n",
      "predicted=28117.683589,expected=27493.285156\n",
      "predicted=27489.675035,expected=27494.707031\n",
      "predicted=27632.674042,expected=27994.330078\n",
      "predicted=27919.592565,expected=27139.888672\n",
      "predicted=27103.860779,expected=27268.130859\n",
      "predicted=27200.125396,expected=28348.441406\n",
      "predicted=28509.111618,expected=28033.562500\n",
      "predicted=27809.363673,expected=28478.484375\n",
      "predicted=28657.729704,expected=28411.035156\n",
      "predicted=28274.923062,expected=28199.308594\n",
      "predicted=28339.768251,expected=27790.220703\n",
      "predicted=27718.662176,expected=28168.089844\n",
      "predicted=28120.068615,expected=28177.984375\n",
      "predicted=28121.754837,expected=28044.140625\n",
      "predicted=28049.429714,expected=27925.859375\n",
      "predicted=28025.399642,expected=27947.794922\n",
      "predicted=27893.265367,expected=28333.050781\n",
      "predicted=28438.599605,expected=29652.980469\n",
      "predicted=29549.694844,expected=30235.058594\n",
      "predicted=30223.360592,expected=30139.052734\n",
      "predicted=30128.369942,expected=30399.066406\n",
      "predicted=30501.941251,expected=30485.699219\n",
      "predicted=30485.804088,expected=30318.496094\n",
      "predicted=30308.839528,expected=30315.355469\n",
      "predicted=30260.517573,expected=29445.044922\n",
      "predicted=29345.116298,expected=30397.552734\n",
      "predicted=30487.926863,expected=28822.679688\n",
      "predicted=28813.074983,expected=28245.988281\n",
      "predicted=28253.117701,expected=27276.910156\n",
      "predicted=27206.592475,expected=27817.500000\n",
      "predicted=27746.762428,expected=27591.384766\n",
      "predicted=27625.061937,expected=27525.339844\n",
      "predicted=27374.638526,expected=28307.597656\n",
      "predicted=28216.116680,expected=28422.701172\n",
      "predicted=28617.135420,expected=29473.787109\n",
      "predicted=29465.720426,expected=29340.261719\n",
      "predicted=29360.158985,expected=29248.488281\n",
      "predicted=29103.887021,expected=29268.806641\n",
      "predicted=29457.358723,expected=28091.568359\n",
      "predicted=28036.105614,expected=28680.537109\n",
      "predicted=28596.544944,expected=29006.308594\n",
      "predicted=28932.752102,expected=28847.710938\n",
      "predicted=28902.207095,expected=29534.384766\n",
      "predicted=29631.792332,expected=28904.623047\n",
      "predicted=28805.959398,expected=28454.978516\n",
      "predicted=28585.449329,expected=27694.273438\n",
      "predicted=27644.192180,expected=27658.775391\n",
      "predicted=27515.868928,expected=27621.755859\n",
      "predicted=27496.973232,expected=27000.789062\n",
      "predicted=27067.988808,expected=26804.990234\n",
      "predicted=26777.106548,expected=26784.078125\n",
      "predicted=26824.768250,expected=26930.638672\n"
     ]
    }
   ],
   "source": [
    "history = [x for x in train_arima]\n",
    "predictions = []\n",
    "for t in range(len(test_arima)):\n",
    "  model = ARIMA(history, order=(9,0,10))\n",
    "  model_fit = model.fit()\n",
    "  output = model_fit.forecast()\n",
    "  yhat = output[0]\n",
    "  predictions.append(yhat)\n",
    "  obs = test_arima[t]\n",
    "  history.append(obs)\n",
    "  print('predicted=%f,expected=%f' %(yhat, obs))\n",
    "    \n",
    "  "
   ]
  },
  {
   "cell_type": "markdown",
   "id": "c8cfd40c",
   "metadata": {},
   "source": [
    "### 10. Evaluate the Performance of the model"
   ]
  },
  {
   "cell_type": "markdown",
   "id": "e28e753d",
   "metadata": {},
   "source": [
    " We will use the root mean squared error (RMSE) to evaluate the performance of our model."
   ]
  },
  {
   "cell_type": "code",
   "execution_count": 90,
   "id": "b12a70d0",
   "metadata": {},
   "outputs": [
    {
     "name": "stdout",
     "output_type": "stream",
     "text": [
      "Root Mean Squared Error (RMSE): 584.328\n"
     ]
    }
   ],
   "source": [
    "ms_error = mean_squared_error(test_arima,predictions)\n",
    "root_ms_error = math.sqrt(ms_error)\n",
    "print('Root Mean Squared Error (RMSE): %.3f' % root_ms_error)"
   ]
  },
  {
   "cell_type": "markdown",
   "id": "ae5c0f32",
   "metadata": {},
   "source": [
    "**Inference:** We have used Root Mean Square Error(RMSE) as the error metric. RMSE signifies the average distance between predicted points on the test set and the actual (true) labels. In other words, it shows the extent of our error. The less this number, the better. We can see, that our model’s RMSE is not very big (consider that the price in our data set is in thousands of USD, and we are mistaken only by tens of USD)."
   ]
  },
  {
   "cell_type": "markdown",
   "id": "c54f6e9a",
   "metadata": {},
   "source": [
    "### 11. Result Visualization"
   ]
  },
  {
   "cell_type": "markdown",
   "id": "61258369",
   "metadata": {},
   "source": [
    "Finally, we will plot the predicted values against the actual values to visualize the accuracy of our model."
   ]
  },
  {
   "cell_type": "code",
   "execution_count": 48,
   "id": "4df26423",
   "metadata": {},
   "outputs": [
    {
     "data": {
      "image/png": "[encoded data removed]",
      "text/plain": [
       "<Figure size 576x432 with 1 Axes>"
      ]
     },
     "metadata": {
      "needs_background": "light"
     },
     "output_type": "display_data"
    }
   ],
   "source": [
    "plt.figure(figsize=(8, 6))\n",
    "plt.plot(test_arima.index, test_arima, label='Actual')\n",
    "plt.plot(test_arima.index, predictions, color='yellow', label='Predicted')\n",
    "plt.title('Bitcoin Closing Prices')\n",
    "plt.xlabel('Year')\n",
    "plt.ylabel('Price')\n",
    "plt.legend()\n",
    "plt.show()"
   ]
  },
  {
   "cell_type": "markdown",
   "id": "278c6e5f",
   "metadata": {},
   "source": [
    "**Inference:** The predicted and actual closing price are quite close to each other, the model is also capable of capturing the fluctuations in the values accurately."
   ]
  },
  {
   "cell_type": "markdown",
   "id": "fe014b8b",
   "metadata": {},
   "source": [
    "### 11.1 Visualization of Estimated Residual plots\n",
    "\n",
    "The deviations between actual values and predictions are called residuals. The plot for residuals is for AR,MA models is as follows:"
   ]
  },
  {
   "cell_type": "code",
   "execution_count": 49,
   "id": "0134bf64",
   "metadata": {},
   "outputs": [],
   "source": [
    "data[\"resid_AR8\"]= result_ar8.resid\n",
    "data[\"resid_AR9\"]= result_ar9.resid\n",
    "\n",
    "data[\"resid_ma8\"]= result_ma8.resid\n",
    "data[\"resid_ma9\"]= result_ma9.resid"
   ]
  },
  {
   "cell_type": "code",
   "execution_count": 50,
   "id": "573e5c49",
   "metadata": {},
   "outputs": [
    {
     "data": {
      "text/plain": [
       "Text(0.5, 1.0, 'PDF of Residual for MA(9)')"
      ]
     },
     "execution_count": 50,
     "metadata": {},
     "output_type": "execute_result"
    },
    {
     "data": {
      "image/png": "[encoded data removed]",
      "text/plain": [
       "<Figure size 1296x720 with 4 Axes>"
      ]
     },
     "metadata": {
      "needs_background": "light"
     },
     "output_type": "display_data"
    }
   ],
   "source": [
    "plt.figure(figsize = (18,10))\n",
    "plt.subplot(2, 2, 1)\n",
    "plt.plot(data[\"resid_AR8\"])\n",
    "plt.gca().set_title(\"PDF of Residual for AR(8)\")\n",
    "\n",
    "plt.subplot(2, 2, 2)\n",
    "plt.plot(data[\"resid_AR9\"])\n",
    "plt.gca().set_title(\"PDF of Residual for AR(9)\")\n",
    "\n",
    "plt.subplot(2, 2, 3)\n",
    "plt.plot(data[\"resid_ma8\"])\n",
    "plt.gca().set_title(\"PDF of Residual for MA(8)\")\n",
    "\n",
    "plt.subplot(2, 2, 4)\n",
    "plt.plot(data[\"resid_ma9\"])\n",
    "plt.gca().set_title(\"PDF of Residual for MA(9)\")"
   ]
  },
  {
   "cell_type": "code",
   "execution_count": null,
   "id": "9f33c55d",
   "metadata": {},
   "outputs": [],
   "source": []
  }
 ],
 "metadata": {
  "kernelspec": {
   "display_name": "Python 3 (ipykernel)",
   "language": "python",
   "name": "python3"
  },
  "language_info": {
   "codemirror_mode": {
    "name": "ipython",
    "version": 3
   },
   "file_extension": ".py",
   "mimetype": "text/x-python",
   "name": "python",
   "nbconvert_exporter": "python",
   "pygments_lexer": "ipython3",
   "version": "3.9.12"
  }
 },
 "nbformat": 4,
 "nbformat_minor": 5
}
