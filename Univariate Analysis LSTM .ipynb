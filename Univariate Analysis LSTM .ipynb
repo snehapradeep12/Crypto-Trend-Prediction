{
 "cells": [
  {
   "cell_type": "markdown",
   "id": "15b8495f",
   "metadata": {},
   "source": [
    "### Import the libraries"
   ]
  },
  {
   "cell_type": "code",
   "execution_count": 1,
   "id": "1bdb62c2",
   "metadata": {},
   "outputs": [],
   "source": [
    "import pandas as pd\n",
    "import numpy as np\n",
    "import seaborn as sns\n",
    "import matplotlib.pyplot as plt\n",
    "%matplotlib inline\n",
    "\n",
    "import yfinance as yf\n",
    "\n",
    "from sklearn.preprocessing import MinMaxScaler\n",
    "\n",
    "from keras.models import Sequential\n",
    "from keras.layers import Dense, Dropout, LSTM, Bidirectional\n",
    "\n",
    "from sklearn.metrics import mean_squared_error,  mean_absolute_error\n",
    "\n",
    "import warnings\n",
    "warnings.filterwarnings(\"ignore\")"
   ]
  },
  {
   "cell_type": "markdown",
   "id": "de6f0bfe",
   "metadata": {},
   "source": [
    "### 1. Problem Statement"
   ]
  },
  {
   "cell_type": "markdown",
   "id": "4607280e",
   "metadata": {},
   "source": [
    "Predict the trend of Bitcoin closing price using LSTM, by leveraging the historical closing price data spanning the past 5 years.\n"
   ]
  },
  {
   "cell_type": "markdown",
   "id": "5e7583f2",
   "metadata": {},
   "source": [
    "### 2. Input data"
   ]
  },
  {
   "cell_type": "markdown",
   "id": "eae22b63",
   "metadata": {},
   "source": [
    "The input data is extracted from Yahoo Finance for Bitcoin (symbol = 'BTC-USD')  using yfinancefor the past 5 years in the date range from '2018-05-01' to '2023-06-14'.The .csv file for the same is loaded here."
   ]
  },
  {
   "cell_type": "code",
   "execution_count": 2,
   "id": "f1c284bf",
   "metadata": {},
   "outputs": [
    {
     "data": {
      "text/html": [
       "<div>\n",
       "<style scoped>\n",
       "    .dataframe tbody tr th:only-of-type {\n",
       "        vertical-align: middle;\n",
       "    }\n",
       "\n",
       "    .dataframe tbody tr th {\n",
       "        vertical-align: top;\n",
       "    }\n",
       "\n",
       "    .dataframe thead th {\n",
       "        text-align: right;\n",
       "    }\n",
       "</style>\n",
       "<table border=\"1\" class=\"dataframe\">\n",
       "  <thead>\n",
       "    <tr style=\"text-align: right;\">\n",
       "      <th></th>\n",
       "      <th>Date</th>\n",
       "      <th>Close</th>\n",
       "    </tr>\n",
       "  </thead>\n",
       "  <tbody>\n",
       "    <tr>\n",
       "      <th>0</th>\n",
       "      <td>2018-04-30</td>\n",
       "      <td>9240.549805</td>\n",
       "    </tr>\n",
       "    <tr>\n",
       "      <th>1</th>\n",
       "      <td>2018-05-01</td>\n",
       "      <td>9119.009766</td>\n",
       "    </tr>\n",
       "    <tr>\n",
       "      <th>2</th>\n",
       "      <td>2018-05-02</td>\n",
       "      <td>9235.919922</td>\n",
       "    </tr>\n",
       "    <tr>\n",
       "      <th>3</th>\n",
       "      <td>2018-05-03</td>\n",
       "      <td>9743.860352</td>\n",
       "    </tr>\n",
       "    <tr>\n",
       "      <th>4</th>\n",
       "      <td>2018-05-04</td>\n",
       "      <td>9700.759766</td>\n",
       "    </tr>\n",
       "    <tr>\n",
       "      <th>...</th>\n",
       "      <td>...</td>\n",
       "      <td>...</td>\n",
       "    </tr>\n",
       "    <tr>\n",
       "      <th>95</th>\n",
       "      <td>2018-08-03</td>\n",
       "      <td>7434.390137</td>\n",
       "    </tr>\n",
       "    <tr>\n",
       "      <th>96</th>\n",
       "      <td>2018-08-04</td>\n",
       "      <td>7032.850098</td>\n",
       "    </tr>\n",
       "    <tr>\n",
       "      <th>97</th>\n",
       "      <td>2018-08-05</td>\n",
       "      <td>7068.479980</td>\n",
       "    </tr>\n",
       "    <tr>\n",
       "      <th>98</th>\n",
       "      <td>2018-08-06</td>\n",
       "      <td>6951.799805</td>\n",
       "    </tr>\n",
       "    <tr>\n",
       "      <th>99</th>\n",
       "      <td>2018-08-07</td>\n",
       "      <td>6753.120117</td>\n",
       "    </tr>\n",
       "  </tbody>\n",
       "</table>\n",
       "<p>100 rows × 2 columns</p>\n",
       "</div>"
      ],
      "text/plain": [
       "         Date        Close\n",
       "0  2018-04-30  9240.549805\n",
       "1  2018-05-01  9119.009766\n",
       "2  2018-05-02  9235.919922\n",
       "3  2018-05-03  9743.860352\n",
       "4  2018-05-04  9700.759766\n",
       "..        ...          ...\n",
       "95 2018-08-03  7434.390137\n",
       "96 2018-08-04  7032.850098\n",
       "97 2018-08-05  7068.479980\n",
       "98 2018-08-06  6951.799805\n",
       "99 2018-08-07  6753.120117\n",
       "\n",
       "[100 rows x 2 columns]"
      ]
     },
     "execution_count": 2,
     "metadata": {},
     "output_type": "execute_result"
    }
   ],
   "source": [
    "df = pd.read_excel('Bitcoin_data.xlsx')\n",
    "df.head(100)\n"
   ]
  },
  {
   "cell_type": "code",
   "execution_count": 3,
   "id": "3bd71ecf",
   "metadata": {},
   "outputs": [
    {
     "data": {
      "text/plain": [
       "(1841, 2)"
      ]
     },
     "execution_count": 3,
     "metadata": {},
     "output_type": "execute_result"
    }
   ],
   "source": [
    "df.shape"
   ]
  },
  {
   "cell_type": "code",
   "execution_count": 4,
   "id": "357b3119",
   "metadata": {},
   "outputs": [
    {
     "data": {
      "text/plain": [
       "Date     datetime64[ns]\n",
       "Close           float64\n",
       "dtype: object"
      ]
     },
     "execution_count": 4,
     "metadata": {},
     "output_type": "execute_result"
    }
   ],
   "source": [
    "df.dtypes"
   ]
  },
  {
   "cell_type": "code",
   "execution_count": 5,
   "id": "fe56083c",
   "metadata": {},
   "outputs": [
    {
     "data": {
      "text/html": [
       "<div>\n",
       "<style scoped>\n",
       "    .dataframe tbody tr th:only-of-type {\n",
       "        vertical-align: middle;\n",
       "    }\n",
       "\n",
       "    .dataframe tbody tr th {\n",
       "        vertical-align: top;\n",
       "    }\n",
       "\n",
       "    .dataframe thead th {\n",
       "        text-align: right;\n",
       "    }\n",
       "</style>\n",
       "<table border=\"1\" class=\"dataframe\">\n",
       "  <thead>\n",
       "    <tr style=\"text-align: right;\">\n",
       "      <th></th>\n",
       "      <th>Date</th>\n",
       "      <th>Close</th>\n",
       "    </tr>\n",
       "  </thead>\n",
       "  <tbody>\n",
       "    <tr>\n",
       "      <th>1836</th>\n",
       "      <td>2023-05-10</td>\n",
       "      <td>27621.755859</td>\n",
       "    </tr>\n",
       "    <tr>\n",
       "      <th>1837</th>\n",
       "      <td>2023-05-11</td>\n",
       "      <td>27000.789062</td>\n",
       "    </tr>\n",
       "    <tr>\n",
       "      <th>1838</th>\n",
       "      <td>2023-05-12</td>\n",
       "      <td>26804.990234</td>\n",
       "    </tr>\n",
       "    <tr>\n",
       "      <th>1839</th>\n",
       "      <td>2023-05-13</td>\n",
       "      <td>26784.078125</td>\n",
       "    </tr>\n",
       "    <tr>\n",
       "      <th>1840</th>\n",
       "      <td>2023-05-14</td>\n",
       "      <td>26930.638672</td>\n",
       "    </tr>\n",
       "  </tbody>\n",
       "</table>\n",
       "</div>"
      ],
      "text/plain": [
       "           Date         Close\n",
       "1836 2023-05-10  27621.755859\n",
       "1837 2023-05-11  27000.789062\n",
       "1838 2023-05-12  26804.990234\n",
       "1839 2023-05-13  26784.078125\n",
       "1840 2023-05-14  26930.638672"
      ]
     },
     "execution_count": 5,
     "metadata": {},
     "output_type": "execute_result"
    }
   ],
   "source": [
    "df.tail()"
   ]
  },
  {
   "cell_type": "markdown",
   "id": "1caa7b99",
   "metadata": {},
   "source": [
    "The data has 1841 rows and both the columns are already in the desired format. So we go and check the underlying trend of the historical data."
   ]
  },
  {
   "cell_type": "markdown",
   "id": "78162868",
   "metadata": {},
   "source": [
    "#### 2.1 Visualizing the Closing Price"
   ]
  },
  {
   "cell_type": "code",
   "execution_count": 6,
   "id": "26b227e9",
   "metadata": {},
   "outputs": [
    {
     "data": {
      "image/png": "[encoded data removed]",
      "text/plain": [
       "<Figure size 432x288 with 1 Axes>"
      ]
     },
     "metadata": {
      "needs_background": "light"
     },
     "output_type": "display_data"
    }
   ],
   "source": [
    "df.plot(x = 'Date', y='Close', label='Close',color='green')\n",
    "plt.xlabel('Date',size=15)\n",
    "plt.ylabel('Price',size=15)\n",
    "plt.legend()\n",
    "plt.show()"
   ]
  },
  {
   "cell_type": "markdown",
   "id": "4c62125c",
   "metadata": {},
   "source": [
    "**Inference**: The historical data of Bitcoin exhibits an upward trend until 2021, which was subsequently followed by a period of steep decline and notable price fluctuations."
   ]
  },
  {
   "cell_type": "code",
   "execution_count": 7,
   "id": "ed621716",
   "metadata": {},
   "outputs": [
    {
     "data": {
      "text/html": [
       "<div>\n",
       "<style scoped>\n",
       "    .dataframe tbody tr th:only-of-type {\n",
       "        vertical-align: middle;\n",
       "    }\n",
       "\n",
       "    .dataframe tbody tr th {\n",
       "        vertical-align: top;\n",
       "    }\n",
       "\n",
       "    .dataframe thead th {\n",
       "        text-align: right;\n",
       "    }\n",
       "</style>\n",
       "<table border=\"1\" class=\"dataframe\">\n",
       "  <thead>\n",
       "    <tr style=\"text-align: right;\">\n",
       "      <th></th>\n",
       "      <th>Close</th>\n",
       "    </tr>\n",
       "    <tr>\n",
       "      <th>Date</th>\n",
       "      <th></th>\n",
       "    </tr>\n",
       "  </thead>\n",
       "  <tbody>\n",
       "    <tr>\n",
       "      <th>2018-04-30</th>\n",
       "      <td>9240.549805</td>\n",
       "    </tr>\n",
       "    <tr>\n",
       "      <th>2018-05-01</th>\n",
       "      <td>9119.009766</td>\n",
       "    </tr>\n",
       "    <tr>\n",
       "      <th>2018-05-02</th>\n",
       "      <td>9235.919922</td>\n",
       "    </tr>\n",
       "    <tr>\n",
       "      <th>2018-05-03</th>\n",
       "      <td>9743.860352</td>\n",
       "    </tr>\n",
       "    <tr>\n",
       "      <th>2018-05-04</th>\n",
       "      <td>9700.759766</td>\n",
       "    </tr>\n",
       "  </tbody>\n",
       "</table>\n",
       "</div>"
      ],
      "text/plain": [
       "                  Close\n",
       "Date                   \n",
       "2018-04-30  9240.549805\n",
       "2018-05-01  9119.009766\n",
       "2018-05-02  9235.919922\n",
       "2018-05-03  9743.860352\n",
       "2018-05-04  9700.759766"
      ]
     },
     "execution_count": 7,
     "metadata": {},
     "output_type": "execute_result"
    }
   ],
   "source": [
    "# Setting date column as index\n",
    "df.set_index('Date',drop=True,inplace=True)\n",
    "df.head()"
   ]
  },
  {
   "cell_type": "markdown",
   "id": "a05d801c",
   "metadata": {},
   "source": [
    "### 3. Data Processing"
   ]
  },
  {
   "cell_type": "markdown",
   "id": "d3847e84",
   "metadata": {},
   "source": [
    "#### 3.1 - Split the data "
   ]
  },
  {
   "cell_type": "markdown",
   "id": "922d810e",
   "metadata": {},
   "source": [
    "In this scenario, our focus will solely be on the closing prices from the dataset to train the LSTM model and date column would be used for the purpose of forecasting. To accomplish this, we will extract 80% of the closing prices from the available stock data, which will serve as our training set. and the rest of the is the test set."
   ]
  },
  {
   "cell_type": "code",
   "execution_count": 8,
   "id": "aa7cbf4f",
   "metadata": {},
   "outputs": [
    {
     "data": {
      "text/plain": [
       "1473"
      ]
     },
     "execution_count": 8,
     "metadata": {},
     "output_type": "execute_result"
    }
   ],
   "source": [
    "training_size = round(len(df) * 0.80) \n",
    "training_size"
   ]
  },
  {
   "cell_type": "code",
   "execution_count": 9,
   "id": "b55566b2",
   "metadata": {},
   "outputs": [
    {
     "data": {
      "text/plain": [
       "((1473, 1), (368, 1))"
      ]
     },
     "execution_count": 9,
     "metadata": {},
     "output_type": "execute_result"
    }
   ],
   "source": [
    "# Train set\n",
    "train_data = df[:training_size]\n",
    "# Test set\n",
    "test_data  = df[training_size:]\n",
    "\n",
    "# Shape of the datasets\n",
    "train_data.shape, test_data.shape"
   ]
  },
  {
   "cell_type": "markdown",
   "id": "f1a1fd36",
   "metadata": {},
   "source": [
    "#### 3.2 - Feature Scaling"
   ]
  },
  {
   "cell_type": "markdown",
   "id": "c46b6e74",
   "metadata": {},
   "source": [
    "The next step is to scale the stock prices between (0, 1) to avoid intensive computation. The common methods of feature scaling are standardization and normalization. It is recommended to take Normalization, particularly when working on RNN with a Sigmoid function in the output layer as LSTM uses sigmoid and tanh that are sensitive to magnitudes so prices should be normalized before training the model."
   ]
  },
  {
   "cell_type": "code",
   "execution_count": 10,
   "id": "938cffa1",
   "metadata": {},
   "outputs": [],
   "source": [
    "scaler = MinMaxScaler(feature_range=(0, 1))\n",
    "train_data[train_data.columns] = scaler.fit_transform(train_data)"
   ]
  },
  {
   "cell_type": "code",
   "execution_count": 11,
   "id": "323fea5b",
   "metadata": {},
   "outputs": [],
   "source": [
    "test_data[test_data.columns] = scaler.transform(test_data)"
   ]
  },
  {
   "cell_type": "markdown",
   "id": "7fdb2b7b",
   "metadata": {},
   "source": [
    "#### 3.3 Sliding Window Approach"
   ]
  },
  {
   "cell_type": "markdown",
   "id": "6238969e",
   "metadata": {},
   "source": [
    "A special data structure is designed using the sliging window approach to cover 50-time stamps, based on which RNN will predict the 51st price.\n",
    "\n",
    "Here the number of past timestamps is set to 50 based on experimentation. \n",
    "\n",
    "Thus, X_train is a nested list, which contains lists of 50 time-stamp prices(or mini-batches).\n",
    "\n",
    "y_train is a list of stock prices which is the next day stock price i.e the 51st value, corresponding to each of the mini batches(of lists) in X_train. \n",
    "\n",
    "We reshape the input data into: **(n_samples x timesteps x n_features)**\n",
    "\n",
    "Here,\n",
    "\n",
    "n_samples = Size of train/test set  - timesteps(i.e 50)\n",
    "\n",
    "timesteps = 50\n",
    "\n",
    "n_feature = 1 (For Univariate Analysis)\n"
   ]
  },
  {
   "cell_type": "code",
   "execution_count": 12,
   "id": "3f5adf30",
   "metadata": {},
   "outputs": [],
   "source": [
    "\n",
    "# Function to create sequence of data for training and testing\n",
    "\n",
    "def create_sequence(dataset):\n",
    "  sequences = []\n",
    "  labels = []\n",
    "\n",
    "  start_idx = 0\n",
    "\n",
    "  for stop_idx in range(50,len(dataset)): # Selecting 50 rows at a time\n",
    "    sequences.append(dataset.iloc[start_idx:stop_idx])\n",
    "    labels.append(dataset.iloc[stop_idx])\n",
    "    start_idx += 1\n",
    "  return (np.array(sequences),np.array(labels))"
   ]
  },
  {
   "cell_type": "code",
   "execution_count": 13,
   "id": "02236f72",
   "metadata": {},
   "outputs": [],
   "source": [
    "X_train, y_train = create_sequence(train_data)\n",
    "X_test, y_test = create_sequence(test_data)"
   ]
  },
  {
   "cell_type": "code",
   "execution_count": 14,
   "id": "a63f28a1",
   "metadata": {},
   "outputs": [
    {
     "data": {
      "text/plain": [
       "((1423, 50, 1), (1423, 1), (318, 50, 1), (318, 1))"
      ]
     },
     "execution_count": 14,
     "metadata": {},
     "output_type": "execute_result"
    }
   ],
   "source": [
    "X_train.shape, y_train.shape, X_test.shape, y_test.shape"
   ]
  },
  {
   "cell_type": "markdown",
   "id": "4c24269a",
   "metadata": {},
   "source": [
    "We won't need y-test specifically as we will be predicting the prices but, we can use the y_test set to understand the shape of prediction set"
   ]
  },
  {
   "cell_type": "markdown",
   "id": "2269aa41",
   "metadata": {},
   "source": [
    "### 4. Model Building"
   ]
  },
  {
   "cell_type": "markdown",
   "id": "007bb773",
   "metadata": {},
   "source": [
    "First, we intialize a sequential model and then add the 1st LSTM layer followed by a dropout layer.\n",
    "\n",
    "For the LSTM layer:\n",
    "units - signifies number of LSTM neurons in the layer.50 neurons will give the model high dimensionality, enough to capture the upwards and downwards trends.\n",
    "\n",
    "return_sequences=True - passes on the sequences from one LSTM layer to the second LSTM layer.\n",
    "\n",
    "input_shape - Corresponds to the timesteps and no of features of the train set which is 50 and 1 respectively\n",
    "\n",
    "dropout=0.2 - signifies that 20 % of the 50 neurons will be ignores randomly during each iteration of training\n",
    "\n",
    "Dense is set to 1 since we are doing a univariate analysis and predicting the one closing price."
   ]
  },
  {
   "cell_type": "code",
   "execution_count": 15,
   "id": "0d22ca95",
   "metadata": {},
   "outputs": [
    {
     "name": "stdout",
     "output_type": "stream",
     "text": [
      "Model: \"sequential\"\n",
      "_________________________________________________________________\n",
      " Layer (type)                Output Shape              Param #   \n",
      "=================================================================\n",
      " lstm (LSTM)                 (None, 50, 50)            10400     \n",
      "                                                                 \n",
      " dropout (Dropout)           (None, 50, 50)            0         \n",
      "                                                                 \n",
      " lstm_1 (LSTM)               (None, 50)                20200     \n",
      "                                                                 \n",
      " dense (Dense)               (None, 1)                 51        \n",
      "                                                                 \n",
      "=================================================================\n",
      "Total params: 30,651\n",
      "Trainable params: 30,651\n",
      "Non-trainable params: 0\n",
      "_________________________________________________________________\n"
     ]
    }
   ],
   "source": [
    "model = Sequential()\n",
    "model.add(LSTM(units=50, return_sequences=True, input_shape = (X_train.shape[1], X_train.shape[2])))\n",
    "\n",
    "model.add(Dropout(0.2)) \n",
    "model.add(LSTM(units=50))\n",
    "\n",
    "model.add(Dense(1))\n",
    "\n",
    "model.compile(loss='mean_squared_error', optimizer='adam', metrics=['mean_absolute_error'])\n",
    "\n",
    "model.summary()"
   ]
  },
  {
   "cell_type": "markdown",
   "id": "db2033d5",
   "metadata": {},
   "source": [
    "#### 4.1 Model Fitting"
   ]
  },
  {
   "cell_type": "code",
   "execution_count": 16,
   "id": "f4b646dc",
   "metadata": {
    "scrolled": false
   },
   "outputs": [
    {
     "name": "stdout",
     "output_type": "stream",
     "text": [
      "Epoch 1/80\n",
      "45/45 [==============================] - 20s 135ms/step - loss: 0.0232 - mean_absolute_error: 0.0848 - val_loss: 5.9733e-04 - val_mean_absolute_error: 0.0186\n",
      "Epoch 2/80\n",
      "45/45 [==============================] - 3s 56ms/step - loss: 0.0020 - mean_absolute_error: 0.0266 - val_loss: 6.2660e-04 - val_mean_absolute_error: 0.0200\n",
      "Epoch 3/80\n",
      "45/45 [==============================] - 3s 55ms/step - loss: 0.0020 - mean_absolute_error: 0.0267 - val_loss: 4.9409e-04 - val_mean_absolute_error: 0.0164\n",
      "Epoch 4/80\n",
      "45/45 [==============================] - 2s 52ms/step - loss: 0.0016 - mean_absolute_error: 0.0241 - val_loss: 5.2597e-04 - val_mean_absolute_error: 0.0178\n",
      "Epoch 5/80\n",
      "45/45 [==============================] - 3s 58ms/step - loss: 0.0016 - mean_absolute_error: 0.0240 - val_loss: 4.3624e-04 - val_mean_absolute_error: 0.0157\n",
      "Epoch 6/80\n",
      "45/45 [==============================] - 2s 55ms/step - loss: 0.0016 - mean_absolute_error: 0.0243 - val_loss: 0.0010 - val_mean_absolute_error: 0.0277\n",
      "Epoch 7/80\n",
      "45/45 [==============================] - 2s 56ms/step - loss: 0.0017 - mean_absolute_error: 0.0262 - val_loss: 4.1048e-04 - val_mean_absolute_error: 0.0150\n",
      "Epoch 8/80\n",
      "45/45 [==============================] - 2s 52ms/step - loss: 0.0016 - mean_absolute_error: 0.0242 - val_loss: 0.0011 - val_mean_absolute_error: 0.0290\n",
      "Epoch 9/80\n",
      "45/45 [==============================] - 3s 56ms/step - loss: 0.0013 - mean_absolute_error: 0.0215 - val_loss: 5.3724e-04 - val_mean_absolute_error: 0.0186\n",
      "Epoch 10/80\n",
      "45/45 [==============================] - 3s 56ms/step - loss: 0.0013 - mean_absolute_error: 0.0219 - val_loss: 4.2171e-04 - val_mean_absolute_error: 0.0161\n",
      "Epoch 11/80\n",
      "45/45 [==============================] - 2s 52ms/step - loss: 0.0012 - mean_absolute_error: 0.0209 - val_loss: 3.4018e-04 - val_mean_absolute_error: 0.0132\n",
      "Epoch 12/80\n",
      "45/45 [==============================] - 2s 56ms/step - loss: 0.0011 - mean_absolute_error: 0.0204 - val_loss: 3.2907e-04 - val_mean_absolute_error: 0.0129\n",
      "Epoch 13/80\n",
      "45/45 [==============================] - 3s 58ms/step - loss: 0.0011 - mean_absolute_error: 0.0200 - val_loss: 4.3086e-04 - val_mean_absolute_error: 0.0165\n",
      "Epoch 14/80\n",
      "45/45 [==============================] - 2s 53ms/step - loss: 0.0010 - mean_absolute_error: 0.0192 - val_loss: 4.2165e-04 - val_mean_absolute_error: 0.0164\n",
      "Epoch 15/80\n",
      "45/45 [==============================] - 2s 51ms/step - loss: 9.2383e-04 - mean_absolute_error: 0.0186 - val_loss: 5.3900e-04 - val_mean_absolute_error: 0.0193\n",
      "Epoch 16/80\n",
      "45/45 [==============================] - 3s 64ms/step - loss: 9.3765e-04 - mean_absolute_error: 0.0192 - val_loss: 2.9132e-04 - val_mean_absolute_error: 0.0122\n",
      "Epoch 17/80\n",
      "45/45 [==============================] - 3s 61ms/step - loss: 9.0408e-04 - mean_absolute_error: 0.0189 - val_loss: 2.8223e-04 - val_mean_absolute_error: 0.0120\n",
      "Epoch 18/80\n",
      "45/45 [==============================] - 3s 58ms/step - loss: 9.6138e-04 - mean_absolute_error: 0.0191 - val_loss: 7.1385e-04 - val_mean_absolute_error: 0.0224\n",
      "Epoch 19/80\n",
      "45/45 [==============================] - 3s 75ms/step - loss: 0.0010 - mean_absolute_error: 0.0203 - val_loss: 6.1491e-04 - val_mean_absolute_error: 0.0211\n",
      "Epoch 20/80\n",
      "45/45 [==============================] - 3s 73ms/step - loss: 9.0610e-04 - mean_absolute_error: 0.0184 - val_loss: 3.3086e-04 - val_mean_absolute_error: 0.0142\n",
      "Epoch 21/80\n",
      "45/45 [==============================] - 3s 72ms/step - loss: 9.9198e-04 - mean_absolute_error: 0.0193 - val_loss: 2.6234e-04 - val_mean_absolute_error: 0.0115\n",
      "Epoch 22/80\n",
      "45/45 [==============================] - 3s 71ms/step - loss: 8.6908e-04 - mean_absolute_error: 0.0178 - val_loss: 7.7975e-04 - val_mean_absolute_error: 0.0244\n",
      "Epoch 23/80\n",
      "45/45 [==============================] - 3s 74ms/step - loss: 7.9656e-04 - mean_absolute_error: 0.0174 - val_loss: 3.1631e-04 - val_mean_absolute_error: 0.0139\n",
      "Epoch 24/80\n",
      "45/45 [==============================] - 3s 70ms/step - loss: 7.9899e-04 - mean_absolute_error: 0.0175 - val_loss: 2.6848e-04 - val_mean_absolute_error: 0.0120\n",
      "Epoch 25/80\n",
      "45/45 [==============================] - 3s 71ms/step - loss: 7.9936e-04 - mean_absolute_error: 0.0176 - val_loss: 2.7809e-04 - val_mean_absolute_error: 0.0122\n",
      "Epoch 26/80\n",
      "45/45 [==============================] - 4s 84ms/step - loss: 8.1581e-04 - mean_absolute_error: 0.0174 - val_loss: 2.9264e-04 - val_mean_absolute_error: 0.0133\n",
      "Epoch 27/80\n",
      "45/45 [==============================] - 3s 74ms/step - loss: 8.5451e-04 - mean_absolute_error: 0.0185 - val_loss: 5.0755e-04 - val_mean_absolute_error: 0.0184\n",
      "Epoch 28/80\n",
      "45/45 [==============================] - 3s 70ms/step - loss: 9.8823e-04 - mean_absolute_error: 0.0203 - val_loss: 9.7288e-04 - val_mean_absolute_error: 0.0279\n",
      "Epoch 29/80\n",
      "45/45 [==============================] - 4s 85ms/step - loss: 9.0380e-04 - mean_absolute_error: 0.0191 - val_loss: 2.2564e-04 - val_mean_absolute_error: 0.0106\n",
      "Epoch 30/80\n",
      "45/45 [==============================] - 4s 91ms/step - loss: 7.2986e-04 - mean_absolute_error: 0.0166 - val_loss: 3.5902e-04 - val_mean_absolute_error: 0.0155\n",
      "Epoch 31/80\n",
      "45/45 [==============================] - 4s 91ms/step - loss: 7.1426e-04 - mean_absolute_error: 0.0163 - val_loss: 5.2402e-04 - val_mean_absolute_error: 0.0197\n",
      "Epoch 32/80\n",
      "45/45 [==============================] - 3s 75ms/step - loss: 7.1867e-04 - mean_absolute_error: 0.0164 - val_loss: 2.3680e-04 - val_mean_absolute_error: 0.0115\n",
      "Epoch 33/80\n",
      "45/45 [==============================] - 3s 78ms/step - loss: 6.6105e-04 - mean_absolute_error: 0.0156 - val_loss: 3.0277e-04 - val_mean_absolute_error: 0.0139\n",
      "Epoch 34/80\n",
      "45/45 [==============================] - 3s 76ms/step - loss: 6.3610e-04 - mean_absolute_error: 0.0154 - val_loss: 2.0550e-04 - val_mean_absolute_error: 0.0100\n",
      "Epoch 35/80\n",
      "45/45 [==============================] - 3s 74ms/step - loss: 6.3678e-04 - mean_absolute_error: 0.0158 - val_loss: 3.4868e-04 - val_mean_absolute_error: 0.0154\n",
      "Epoch 36/80\n",
      "45/45 [==============================] - 4s 91ms/step - loss: 5.8944e-04 - mean_absolute_error: 0.0151 - val_loss: 2.9113e-04 - val_mean_absolute_error: 0.0136\n",
      "Epoch 37/80\n",
      "45/45 [==============================] - 4s 95ms/step - loss: 6.2884e-04 - mean_absolute_error: 0.0157 - val_loss: 2.2886e-04 - val_mean_absolute_error: 0.0110\n",
      "Epoch 38/80\n",
      "45/45 [==============================] - 4s 88ms/step - loss: 6.5271e-04 - mean_absolute_error: 0.0159 - val_loss: 2.7497e-04 - val_mean_absolute_error: 0.0132\n",
      "Epoch 39/80\n",
      "45/45 [==============================] - 3s 72ms/step - loss: 6.5357e-04 - mean_absolute_error: 0.0162 - val_loss: 2.0647e-04 - val_mean_absolute_error: 0.0106\n",
      "Epoch 40/80\n",
      "45/45 [==============================] - 3s 68ms/step - loss: 5.7491e-04 - mean_absolute_error: 0.0150 - val_loss: 2.1159e-04 - val_mean_absolute_error: 0.0104\n",
      "Epoch 41/80\n",
      "45/45 [==============================] - 3s 70ms/step - loss: 6.5852e-04 - mean_absolute_error: 0.0160 - val_loss: 4.2401e-04 - val_mean_absolute_error: 0.0176\n",
      "Epoch 42/80\n",
      "45/45 [==============================] - 2s 55ms/step - loss: 7.0635e-04 - mean_absolute_error: 0.0166 - val_loss: 1.8493e-04 - val_mean_absolute_error: 0.0095\n",
      "Epoch 43/80\n",
      "45/45 [==============================] - 3s 61ms/step - loss: 6.1302e-04 - mean_absolute_error: 0.0155 - val_loss: 2.0707e-04 - val_mean_absolute_error: 0.0103\n",
      "Epoch 44/80\n",
      "45/45 [==============================] - 3s 71ms/step - loss: 6.7512e-04 - mean_absolute_error: 0.0161 - val_loss: 6.3087e-04 - val_mean_absolute_error: 0.0222\n",
      "Epoch 45/80\n",
      "45/45 [==============================] - 3s 68ms/step - loss: 6.5378e-04 - mean_absolute_error: 0.0161 - val_loss: 2.7285e-04 - val_mean_absolute_error: 0.0131\n",
      "Epoch 46/80\n",
      "45/45 [==============================] - 3s 64ms/step - loss: 5.4187e-04 - mean_absolute_error: 0.0149 - val_loss: 1.8647e-04 - val_mean_absolute_error: 0.0098\n",
      "Epoch 47/80\n",
      "45/45 [==============================] - 3s 68ms/step - loss: 6.5940e-04 - mean_absolute_error: 0.0159 - val_loss: 1.7740e-04 - val_mean_absolute_error: 0.0095\n",
      "Epoch 48/80\n",
      "45/45 [==============================] - 3s 78ms/step - loss: 5.6193e-04 - mean_absolute_error: 0.0146 - val_loss: 1.9194e-04 - val_mean_absolute_error: 0.0103\n",
      "Epoch 49/80\n",
      "45/45 [==============================] - 3s 60ms/step - loss: 5.3332e-04 - mean_absolute_error: 0.0143 - val_loss: 1.7387e-04 - val_mean_absolute_error: 0.0094\n",
      "Epoch 50/80\n",
      "45/45 [==============================] - 3s 73ms/step - loss: 5.3827e-04 - mean_absolute_error: 0.0144 - val_loss: 1.6936e-04 - val_mean_absolute_error: 0.0092\n",
      "Epoch 51/80\n",
      "45/45 [==============================] - 3s 64ms/step - loss: 5.9198e-04 - mean_absolute_error: 0.0150 - val_loss: 2.5606e-04 - val_mean_absolute_error: 0.0128\n",
      "Epoch 52/80\n",
      "45/45 [==============================] - 3s 56ms/step - loss: 5.7898e-04 - mean_absolute_error: 0.0149 - val_loss: 2.4202e-04 - val_mean_absolute_error: 0.0124\n",
      "Epoch 53/80\n",
      "45/45 [==============================] - 2s 52ms/step - loss: 5.3448e-04 - mean_absolute_error: 0.0145 - val_loss: 2.6052e-04 - val_mean_absolute_error: 0.0130\n",
      "Epoch 54/80\n",
      "45/45 [==============================] - 2s 55ms/step - loss: 5.5937e-04 - mean_absolute_error: 0.0150 - val_loss: 3.5310e-04 - val_mean_absolute_error: 0.0157\n",
      "Epoch 55/80\n",
      "45/45 [==============================] - 3s 57ms/step - loss: 5.0949e-04 - mean_absolute_error: 0.0140 - val_loss: 2.2771e-04 - val_mean_absolute_error: 0.0120\n",
      "Epoch 56/80\n",
      "45/45 [==============================] - 2s 53ms/step - loss: 4.6300e-04 - mean_absolute_error: 0.0135 - val_loss: 1.6760e-04 - val_mean_absolute_error: 0.0093\n",
      "Epoch 57/80\n",
      "45/45 [==============================] - 2s 55ms/step - loss: 5.2351e-04 - mean_absolute_error: 0.0142 - val_loss: 1.9446e-04 - val_mean_absolute_error: 0.0106\n",
      "Epoch 58/80\n",
      "45/45 [==============================] - 3s 56ms/step - loss: 5.3986e-04 - mean_absolute_error: 0.0141 - val_loss: 2.4123e-04 - val_mean_absolute_error: 0.0126\n",
      "Epoch 59/80\n",
      "45/45 [==============================] - 2s 55ms/step - loss: 4.9878e-04 - mean_absolute_error: 0.0141 - val_loss: 1.8059e-04 - val_mean_absolute_error: 0.0100\n",
      "Epoch 60/80\n",
      "45/45 [==============================] - 2s 52ms/step - loss: 5.6262e-04 - mean_absolute_error: 0.0148 - val_loss: 1.7148e-04 - val_mean_absolute_error: 0.0098\n",
      "Epoch 61/80\n",
      "45/45 [==============================] - 2s 55ms/step - loss: 6.4243e-04 - mean_absolute_error: 0.0160 - val_loss: 2.1978e-04 - val_mean_absolute_error: 0.0116\n",
      "Epoch 62/80\n",
      "45/45 [==============================] - 3s 56ms/step - loss: 4.7571e-04 - mean_absolute_error: 0.0137 - val_loss: 1.4824e-04 - val_mean_absolute_error: 0.0083\n",
      "Epoch 63/80\n",
      "45/45 [==============================] - 2s 52ms/step - loss: 5.0907e-04 - mean_absolute_error: 0.0141 - val_loss: 1.6010e-04 - val_mean_absolute_error: 0.0088\n",
      "Epoch 64/80\n",
      "45/45 [==============================] - 2s 54ms/step - loss: 4.9614e-04 - mean_absolute_error: 0.0139 - val_loss: 1.5378e-04 - val_mean_absolute_error: 0.0087\n",
      "Epoch 65/80\n",
      "45/45 [==============================] - 2s 54ms/step - loss: 5.1332e-04 - mean_absolute_error: 0.0146 - val_loss: 1.7398e-04 - val_mean_absolute_error: 0.0096\n",
      "Epoch 66/80\n",
      "45/45 [==============================] - 2s 55ms/step - loss: 4.8222e-04 - mean_absolute_error: 0.0140 - val_loss: 4.4780e-04 - val_mean_absolute_error: 0.0186\n",
      "Epoch 67/80\n",
      "45/45 [==============================] - 2s 52ms/step - loss: 5.9834e-04 - mean_absolute_error: 0.0157 - val_loss: 2.4690e-04 - val_mean_absolute_error: 0.0128\n",
      "Epoch 68/80\n",
      "45/45 [==============================] - 2s 54ms/step - loss: 5.3989e-04 - mean_absolute_error: 0.0146 - val_loss: 3.1557e-04 - val_mean_absolute_error: 0.0150\n",
      "Epoch 69/80\n",
      "45/45 [==============================] - 3s 56ms/step - loss: 4.9015e-04 - mean_absolute_error: 0.0136 - val_loss: 1.8445e-04 - val_mean_absolute_error: 0.0103\n",
      "Epoch 70/80\n",
      "45/45 [==============================] - 2s 55ms/step - loss: 5.9677e-04 - mean_absolute_error: 0.0153 - val_loss: 2.0268e-04 - val_mean_absolute_error: 0.0112\n",
      "Epoch 71/80\n",
      "45/45 [==============================] - 2s 54ms/step - loss: 5.6628e-04 - mean_absolute_error: 0.0150 - val_loss: 1.7854e-04 - val_mean_absolute_error: 0.0102\n",
      "Epoch 72/80\n",
      "45/45 [==============================] - 3s 56ms/step - loss: 5.4031e-04 - mean_absolute_error: 0.0144 - val_loss: 2.3888e-04 - val_mean_absolute_error: 0.0126\n",
      "Epoch 73/80\n",
      "45/45 [==============================] - 2s 55ms/step - loss: 6.2088e-04 - mean_absolute_error: 0.0160 - val_loss: 4.7337e-04 - val_mean_absolute_error: 0.0192\n",
      "Epoch 74/80\n",
      "45/45 [==============================] - 2s 50ms/step - loss: 5.2662e-04 - mean_absolute_error: 0.0145 - val_loss: 1.4114e-04 - val_mean_absolute_error: 0.0083\n",
      "Epoch 75/80\n",
      "45/45 [==============================] - 2s 54ms/step - loss: 4.4721e-04 - mean_absolute_error: 0.0131 - val_loss: 1.3413e-04 - val_mean_absolute_error: 0.0078\n",
      "Epoch 76/80\n",
      "45/45 [==============================] - 3s 58ms/step - loss: 4.6132e-04 - mean_absolute_error: 0.0137 - val_loss: 1.7606e-04 - val_mean_absolute_error: 0.0100\n",
      "Epoch 77/80\n",
      "45/45 [==============================] - 3s 57ms/step - loss: 4.4457e-04 - mean_absolute_error: 0.0132 - val_loss: 1.4084e-04 - val_mean_absolute_error: 0.0083\n",
      "Epoch 78/80\n",
      "45/45 [==============================] - 2s 52ms/step - loss: 5.5894e-04 - mean_absolute_error: 0.0150 - val_loss: 2.2144e-04 - val_mean_absolute_error: 0.0120\n",
      "Epoch 79/80\n",
      "45/45 [==============================] - 2s 55ms/step - loss: 5.5300e-04 - mean_absolute_error: 0.0149 - val_loss: 1.5067e-04 - val_mean_absolute_error: 0.0086\n",
      "Epoch 80/80\n",
      "45/45 [==============================] - 3s 56ms/step - loss: 5.0340e-04 - mean_absolute_error: 0.0142 - val_loss: 1.5160e-04 - val_mean_absolute_error: 0.0090\n"
     ]
    },
    {
     "data": {
      "text/plain": [
       "<keras.callbacks.History at 0x2380b790640>"
      ]
     },
     "execution_count": 16,
     "metadata": {},
     "output_type": "execute_result"
    }
   ],
   "source": [
    "model.fit(X_train,y_train, epochs=80,validation_data=(X_test,y_test), verbose=1)"
   ]
  },
  {
   "cell_type": "markdown",
   "id": "22822a42",
   "metadata": {},
   "source": [
    "### 5. Making Predictions"
   ]
  },
  {
   "cell_type": "code",
   "execution_count": 17,
   "id": "c89a97ec",
   "metadata": {},
   "outputs": [
    {
     "name": "stdout",
     "output_type": "stream",
     "text": [
      "10/10 [==============================] - 3s 17ms/step\n"
     ]
    },
    {
     "data": {
      "text/plain": [
       "array([[0.26549178],\n",
       "       [0.25969815],\n",
       "       [0.25586292],\n",
       "       [0.25448087],\n",
       "       [0.26024592]], dtype=float32)"
      ]
     },
     "execution_count": 17,
     "metadata": {},
     "output_type": "execute_result"
    }
   ],
   "source": [
    "test_pred = model.predict(X_test)\n",
    "test_pred[:5]"
   ]
  },
  {
   "cell_type": "code",
   "execution_count": 18,
   "id": "232f172e",
   "metadata": {},
   "outputs": [
    {
     "data": {
      "text/plain": [
       "array([[20315.865],\n",
       "       [19943.16 ],\n",
       "       [19696.44 ],\n",
       "       [19607.533],\n",
       "       [19978.398],\n",
       "       [20308.295],\n",
       "       [20634.746],\n",
       "       [21269.191],\n",
       "       [21754.855],\n",
       "       [21930.557],\n",
       "       [21633.764],\n",
       "       [20968.963],\n",
       "       [20229.348],\n",
       "       [20150.395],\n",
       "       [20443.402],\n",
       "       [20839.877],\n",
       "       [21245.727],\n",
       "       [21301.92 ],\n",
       "       [21951.055],\n",
       "       [22867.834],\n",
       "       [23390.037],\n",
       "       [23543.203],\n",
       "       [23331.156],\n",
       "       [23016.31 ],\n",
       "       [22886.889],\n",
       "       [22337.148],\n",
       "       [21880.518],\n",
       "       [22369.879],\n",
       "       [23304.047],\n",
       "       [23933.107],\n",
       "       [24124.143],\n",
       "       [23960.465],\n",
       "       [23765.213],\n",
       "       [23505.47 ],\n",
       "       [23297.629],\n",
       "       [23109.527],\n",
       "       [23303.707],\n",
       "       [23369.35 ],\n",
       "       [23468.725],\n",
       "       [23806.234],\n",
       "       [23765.787],\n",
       "       [23992.176],\n",
       "       [24184.277],\n",
       "       [24482.756],\n",
       "       [24681.887],\n",
       "       [24719.375],\n",
       "       [24618.148],\n",
       "       [24417.568],\n",
       "       [24044.541],\n",
       "       [23748.229],\n",
       "       [22593.434],\n",
       "       [21864.4  ],\n",
       "       [21709.117],\n",
       "       [21721.102],\n",
       "       [21828.355],\n",
       "       [21849.4  ],\n",
       "       [21914.287],\n",
       "       [21387.318],\n",
       "       [20833.365],\n",
       "       [20324.014],\n",
       "       [20320.607],\n",
       "       [20254.676],\n",
       "       [20305.74 ],\n",
       "       [20393.518],\n",
       "       [20385.48 ],\n",
       "       [20292.45 ],\n",
       "       [20272.953],\n",
       "       [20207.996],\n",
       "       [19761.42 ],\n",
       "       [19575.832],\n",
       "       [19552.574],\n",
       "       [20428.254],\n",
       "       [21326.75 ],\n",
       "       [21889.662],\n",
       "       [22362.574],\n",
       "       [21713.838],\n",
       "       [21031.238],\n",
       "       [20407.627],\n",
       "       [20105.74 ],\n",
       "       [20174.543],\n",
       "       [20036.398],\n",
       "       [19950.365],\n",
       "       [19642.162],\n",
       "       [19256.633],\n",
       "       [19346.86 ],\n",
       "       [19486.725],\n",
       "       [19440.281],\n",
       "       [19300.719],\n",
       "       [19353.92 ],\n",
       "       [19392.766],\n",
       "       [19539.994],\n",
       "       [19715.55 ],\n",
       "       [19769.393],\n",
       "       [19716.871],\n",
       "       [19546.184],\n",
       "       [19646.443],\n",
       "       [20074.549],\n",
       "       [20351.168],\n",
       "       [20386.707],\n",
       "       [20168.81 ],\n",
       "       [19916.697],\n",
       "       [19772.672],\n",
       "       [19599.303],\n",
       "       [19457.13 ],\n",
       "       [19425.57 ],\n",
       "       [19529.375],\n",
       "       [19549.287],\n",
       "       [19488.082],\n",
       "       [19505.637],\n",
       "       [19650.072],\n",
       "       [19683.775],\n",
       "       [19593.572],\n",
       "       [19468.797],\n",
       "       [19432.412],\n",
       "       [19451.555],\n",
       "       [19625.547],\n",
       "       [19683.223],\n",
       "       [19989.291],\n",
       "       [20514.658],\n",
       "       [20683.28 ],\n",
       "       [20808.852],\n",
       "       [20957.934],\n",
       "       [20976.658],\n",
       "       [20897.822],\n",
       "       [20824.568],\n",
       "       [20652.924],\n",
       "       [20551.96 ],\n",
       "       [20903.824],\n",
       "       [21292.953],\n",
       "       [21380.242],\n",
       "       [21208.627],\n",
       "       [20187.193],\n",
       "       [18319.516],\n",
       "       [17634.969],\n",
       "       [17339.459],\n",
       "       [17201.   ],\n",
       "       [16992.188],\n",
       "       [16933.22 ],\n",
       "       [17030.166],\n",
       "       [17046.041],\n",
       "       [17029.363],\n",
       "       [17003.979],\n",
       "       [16985.377],\n",
       "       [16814.055],\n",
       "       [16471.582],\n",
       "       [16356.747],\n",
       "       [16512.672],\n",
       "       [16693.877],\n",
       "       [16783.32 ],\n",
       "       [16785.248],\n",
       "       [16748.402],\n",
       "       [16625.984],\n",
       "       [16609.678],\n",
       "       [16906.227],\n",
       "       [17110.543],\n",
       "       [17256.287],\n",
       "       [17255.67 ],\n",
       "       [17294.809],\n",
       "       [17270.588],\n",
       "       [17282.988],\n",
       "       [17210.693],\n",
       "       [17290.69 ],\n",
       "       [17347.873],\n",
       "       [17376.717],\n",
       "       [17376.121],\n",
       "       [17405.838],\n",
       "       [17654.809],\n",
       "       [17886.64 ],\n",
       "       [17848.58 ],\n",
       "       [17467.959],\n",
       "       [17189.73 ],\n",
       "       [17035.475],\n",
       "       [16862.207],\n",
       "       [16929.975],\n",
       "       [17010.992],\n",
       "       [17070.334],\n",
       "       [17084.229],\n",
       "       [17094.969],\n",
       "       [17095.88 ],\n",
       "       [17122.074],\n",
       "       [17068.107],\n",
       "       [16948.531],\n",
       "       [16888.842],\n",
       "       [16855.354],\n",
       "       [16823.238],\n",
       "       [16833.549],\n",
       "       [16876.432],\n",
       "       [16909.143],\n",
       "       [16995.092],\n",
       "       [17052.936],\n",
       "       [17123.5  ],\n",
       "       [17170.926],\n",
       "       [17244.98 ],\n",
       "       [17338.809],\n",
       "       [17498.986],\n",
       "       [17806.627],\n",
       "       [18405.666],\n",
       "       [19271.766],\n",
       "       [20304.188],\n",
       "       [20916.152],\n",
       "       [21268.268],\n",
       "       [21392.277],\n",
       "       [21209.115],\n",
       "       [21199.15 ],\n",
       "       [21926.16 ],\n",
       "       [22601.475],\n",
       "       [22954.16 ],\n",
       "       [23157.043],\n",
       "       [23099.312],\n",
       "       [23213.951],\n",
       "       [23291.176],\n",
       "       [23354.271],\n",
       "       [23370.334],\n",
       "       [23698.516],\n",
       "       [23551.621],\n",
       "       [23485.021],\n",
       "       [23723.143],\n",
       "       [23825.666],\n",
       "       [23841.35 ],\n",
       "       [23774.387],\n",
       "       [23551.195],\n",
       "       [23304.275],\n",
       "       [23383.355],\n",
       "       [23371.107],\n",
       "       [22857.34 ],\n",
       "       [22368.922],\n",
       "       [22189.668],\n",
       "       [22135.904],\n",
       "       [22149.469],\n",
       "       [22348.47 ],\n",
       "       [23413.018],\n",
       "       [23932.764],\n",
       "       [24492.506],\n",
       "       [24827.889],\n",
       "       [24810.336],\n",
       "       [24942.271],\n",
       "       [24880.031],\n",
       "       [24699.75 ],\n",
       "       [24472.9  ],\n",
       "       [24012.064],\n",
       "       [23698.465],\n",
       "       [23734.775],\n",
       "       [23829.865],\n",
       "       [23732.045],\n",
       "       [23843.742],\n",
       "       [23875.977],\n",
       "       [23383.12 ],\n",
       "       [22971.314],\n",
       "       [22793.744],\n",
       "       [22756.215],\n",
       "       [22683.857],\n",
       "       [22417.295],\n",
       "       [21638.408],\n",
       "       [20985.83 ],\n",
       "       [20822.639],\n",
       "       [21505.396],\n",
       "       [23013.775],\n",
       "       [24334.682],\n",
       "       [24828.184],\n",
       "       [25165.977],\n",
       "       [26390.562],\n",
       "       [27056.795],\n",
       "       [27793.12 ],\n",
       "       [28063.94 ],\n",
       "       [28305.041],\n",
       "       [28017.227],\n",
       "       [28262.271],\n",
       "       [28117.47 ],\n",
       "       [27973.098],\n",
       "       [28143.129],\n",
       "       [27897.996],\n",
       "       [27743.5  ],\n",
       "       [28198.416],\n",
       "       [28421.865],\n",
       "       [28698.41 ],\n",
       "       [28810.615],\n",
       "       [28725.645],\n",
       "       [28440.883],\n",
       "       [28437.227],\n",
       "       [28508.186],\n",
       "       [28502.555],\n",
       "       [28426.018],\n",
       "       [28379.996],\n",
       "       [28548.145],\n",
       "       [29324.95 ],\n",
       "       [30141.592],\n",
       "       [30503.28 ],\n",
       "       [30701.877],\n",
       "       [30803.408],\n",
       "       [30754.688],\n",
       "       [30707.703],\n",
       "       [30260.29 ],\n",
       "       [30440.887],\n",
       "       [29885.465],\n",
       "       [29180.854],\n",
       "       [28324.941],\n",
       "       [28120.059],\n",
       "       [28051.793],\n",
       "       [28016.727],\n",
       "       [28371.47 ],\n",
       "       [28685.688],\n",
       "       [29338.883],\n",
       "       [29667.488],\n",
       "       [29707.637],\n",
       "       [29669.516],\n",
       "       [29060.443],\n",
       "       [28928.484],\n",
       "       [29133.342],\n",
       "       [29245.02 ],\n",
       "       [29619.248],\n",
       "       [29548.65 ],\n",
       "       [29192.816],\n",
       "       [28579.102],\n",
       "       [28198.209],\n",
       "       [28042.225],\n",
       "       [27722.064],\n",
       "       [27427.861],\n",
       "       [27266.275]], dtype=float32)"
      ]
     },
     "execution_count": 18,
     "metadata": {},
     "output_type": "execute_result"
    }
   ],
   "source": [
    "# Scaling the predictions back to the orginal scale\n",
    "predicted_stock_price = scaler.inverse_transform(test_pred)\n"
   ]
  },
  {
   "cell_type": "code",
   "execution_count": 35,
   "id": "dcf15cfa",
   "metadata": {},
   "outputs": [],
   "source": [
    "# Scaling the test set value back to the orginal scale\n",
    "predicted_stock_price_unscaled = scaler.inverse_transform(y_test.reshape(-1, 1))"
   ]
  },
  {
   "cell_type": "markdown",
   "id": "72ad1ecf",
   "metadata": {},
   "source": [
    "### 6. Evaluate the model performance"
   ]
  },
  {
   "cell_type": "code",
   "execution_count": 52,
   "id": "bf9d0d8a",
   "metadata": {},
   "outputs": [
    {
     "name": "stdout",
     "output_type": "stream",
     "text": [
      "Mean Squared Error (MSE): 792.070\n"
     ]
    }
   ],
   "source": [
    "ms_error = mean_squared_error(predicted_stock_price_unscaled,predicted_stock_price)\n",
    "root_ms_error = math.sqrt(ms_error)\n",
    "print('Mean Squared Error (MSE): %.3f' % root_ms_error)"
   ]
  },
  {
   "cell_type": "markdown",
   "id": "85cb68c5",
   "metadata": {},
   "source": [
    "**Inference:** We have used Root Mean Square Error(RMSE) as the error metric. RMSE signifies the average distance between predicted points on the test set and the actual (true) labels. In other words, it shows the extent of our error. The less this number, the better. We can see, that our model’s RMSE is not very big (consider that the price in our data set is in thousands of USD, and we are mistaken only by tens of USD)."
   ]
  },
  {
   "cell_type": "markdown",
   "id": "4f638182",
   "metadata": {},
   "source": [
    "### 7. Result Visualization"
   ]
  },
  {
   "cell_type": "code",
   "execution_count": 19,
   "id": "675f0884",
   "metadata": {},
   "outputs": [],
   "source": [
    "final_data = pd.concat([test_data[-318:].copy(),pd.DataFrame(predicted_stock_price,columns=['Close_Predicted'],index= df.iloc[-318:].index)], axis=1)"
   ]
  },
  {
   "cell_type": "code",
   "execution_count": 20,
   "id": "cdff7540",
   "metadata": {},
   "outputs": [],
   "source": [
    "# Inverse scaling\n",
    "final_data[['Close']] = scaler.inverse_transform(final_data[['Close']]) "
   ]
  },
  {
   "cell_type": "code",
   "execution_count": 21,
   "id": "18083cd8",
   "metadata": {},
   "outputs": [
    {
     "data": {
      "text/html": [
       "<div>\n",
       "<style scoped>\n",
       "    .dataframe tbody tr th:only-of-type {\n",
       "        vertical-align: middle;\n",
       "    }\n",
       "\n",
       "    .dataframe tbody tr th {\n",
       "        vertical-align: top;\n",
       "    }\n",
       "\n",
       "    .dataframe thead th {\n",
       "        text-align: right;\n",
       "    }\n",
       "</style>\n",
       "<table border=\"1\" class=\"dataframe\">\n",
       "  <thead>\n",
       "    <tr style=\"text-align: right;\">\n",
       "      <th></th>\n",
       "      <th>Close</th>\n",
       "      <th>Close_Predicted</th>\n",
       "    </tr>\n",
       "    <tr>\n",
       "      <th>Date</th>\n",
       "      <th></th>\n",
       "      <th></th>\n",
       "    </tr>\n",
       "  </thead>\n",
       "  <tbody>\n",
       "    <tr>\n",
       "      <th>2022-07-01</th>\n",
       "      <td>19269.367188</td>\n",
       "      <td>20315.865234</td>\n",
       "    </tr>\n",
       "    <tr>\n",
       "      <th>2022-07-02</th>\n",
       "      <td>19242.255859</td>\n",
       "      <td>19943.160156</td>\n",
       "    </tr>\n",
       "    <tr>\n",
       "      <th>2022-07-03</th>\n",
       "      <td>19297.076172</td>\n",
       "      <td>19696.439453</td>\n",
       "    </tr>\n",
       "    <tr>\n",
       "      <th>2022-07-04</th>\n",
       "      <td>20231.261719</td>\n",
       "      <td>19607.533203</td>\n",
       "    </tr>\n",
       "    <tr>\n",
       "      <th>2022-07-05</th>\n",
       "      <td>20190.115234</td>\n",
       "      <td>19978.398438</td>\n",
       "    </tr>\n",
       "    <tr>\n",
       "      <th>...</th>\n",
       "      <td>...</td>\n",
       "      <td>...</td>\n",
       "    </tr>\n",
       "    <tr>\n",
       "      <th>2022-10-04</th>\n",
       "      <td>20336.843750</td>\n",
       "      <td>19646.443359</td>\n",
       "    </tr>\n",
       "    <tr>\n",
       "      <th>2022-10-05</th>\n",
       "      <td>20160.716797</td>\n",
       "      <td>20074.548828</td>\n",
       "    </tr>\n",
       "    <tr>\n",
       "      <th>2022-10-06</th>\n",
       "      <td>19955.443359</td>\n",
       "      <td>20351.167969</td>\n",
       "    </tr>\n",
       "    <tr>\n",
       "      <th>2022-10-07</th>\n",
       "      <td>19546.849609</td>\n",
       "      <td>20386.707031</td>\n",
       "    </tr>\n",
       "    <tr>\n",
       "      <th>2022-10-08</th>\n",
       "      <td>19416.568359</td>\n",
       "      <td>20168.810547</td>\n",
       "    </tr>\n",
       "  </tbody>\n",
       "</table>\n",
       "<p>100 rows × 2 columns</p>\n",
       "</div>"
      ],
      "text/plain": [
       "                   Close  Close_Predicted\n",
       "Date                                     \n",
       "2022-07-01  19269.367188     20315.865234\n",
       "2022-07-02  19242.255859     19943.160156\n",
       "2022-07-03  19297.076172     19696.439453\n",
       "2022-07-04  20231.261719     19607.533203\n",
       "2022-07-05  20190.115234     19978.398438\n",
       "...                  ...              ...\n",
       "2022-10-04  20336.843750     19646.443359\n",
       "2022-10-05  20160.716797     20074.548828\n",
       "2022-10-06  19955.443359     20351.167969\n",
       "2022-10-07  19546.849609     20386.707031\n",
       "2022-10-08  19416.568359     20168.810547\n",
       "\n",
       "[100 rows x 2 columns]"
      ]
     },
     "execution_count": 21,
     "metadata": {},
     "output_type": "execute_result"
    }
   ],
   "source": [
    "final_data.head(100)"
   ]
  },
  {
   "cell_type": "code",
   "execution_count": 22,
   "id": "e91ef6e0",
   "metadata": {},
   "outputs": [
    {
     "data": {
      "image/png": "[encoded data removed]",
      "text/plain": [
       "<Figure size 720x432 with 1 Axes>"
      ]
     },
     "metadata": {
      "needs_background": "light"
     },
     "output_type": "display_data"
    }
   ],
   "source": [
    "final_data[['Close','Close_Predicted']].plot(figsize=(10,6))\n",
    "plt.xticks(rotation=45)\n",
    "plt.xlabel('Date',size=15)\n",
    "plt.ylabel('Stock Price',size=15)\n",
    "plt.title('Actual vs Predicted for Close Price of Bitcoin ',size=15)\n",
    "plt.show()"
   ]
  },
  {
   "cell_type": "markdown",
   "id": "705bd2d9",
   "metadata": {},
   "source": [
    "#### From looking at the graph we can conclude that in the parts of predictions which contain spikes(especially downward spikes), the model lags behind the actual prices but in case of smooth changes or sideways trend in the price, the model manages to follow the trend well."
   ]
  },
  {
   "cell_type": "code",
   "execution_count": null,
   "id": "1bc8f771",
   "metadata": {},
   "outputs": [],
   "source": []
  }
 ],
 "metadata": {
  "kernelspec": {
   "display_name": "Python 3 (ipykernel)",
   "language": "python",
   "name": "python3"
  },
  "language_info": {
   "codemirror_mode": {
    "name": "ipython",
    "version": 3
   },
   "file_extension": ".py",
   "mimetype": "text/x-python",
   "name": "python",
   "nbconvert_exporter": "python",
   "pygments_lexer": "ipython3",
   "version": "3.9.12"
  }
 },
 "nbformat": 4,
 "nbformat_minor": 5
}
