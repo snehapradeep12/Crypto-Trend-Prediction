{
 "cells": [
  {
   "cell_type": "markdown",
   "id": "b52c8484",
   "metadata": {},
   "source": [
    "#### Importing the libaries"
   ]
  },
  {
   "cell_type": "code",
   "execution_count": 43,
   "id": "e896dac7",
   "metadata": {},
   "outputs": [],
   "source": [
    "import numpy as np\n",
    "import pandas as pd\n",
    "from matplotlib import pyplot as plt\n",
    "import matplotlib.dates as mdates\n",
    "import seaborn as sns\n",
    "import math\n",
    "import yfinance as yf\n",
    "\n",
    "from sklearn.preprocessing import StandardScaler\n",
    "from sklearn.preprocessing import MinMaxScaler\n",
    "from sklearn.metrics import mean_absolute_error, mean_squared_error\n",
    "\n",
    "from tensorflow.keras.models import Sequential\n",
    "from tensorflow.keras.layers import LSTM\n",
    "from tensorflow.keras.layers import Dense, Dropout\n",
    "from tensorflow.keras.callbacks import EarlyStopping\n"
   ]
  },
  {
   "cell_type": "markdown",
   "id": "a2c958fa",
   "metadata": {},
   "source": [
    "### 1. Problem Statement"
   ]
  },
  {
   "cell_type": "markdown",
   "id": "7acd04a2",
   "metadata": {},
   "source": [
    "Predict the trend of Bitcoin closing price using a multivariate recurrent Neural Network(LSTM), by leveraging the historical Bitcoin closing price, open prices, high prices and low prices spanning the past 5 years."
   ]
  },
  {
   "cell_type": "markdown",
   "id": "970a991f",
   "metadata": {},
   "source": [
    "### 2. Input Data\n",
    "\n",
    "The input data is extracted from Yahoo Finance for Bitcoin (symbol = 'BTC-USD') using yfinance for the past 5 years in the date range from '2018-05-01' to '2023-06-14'."
   ]
  },
  {
   "cell_type": "code",
   "execution_count": 2,
   "id": "be9d0e0d",
   "metadata": {},
   "outputs": [
    {
     "name": "stdout",
     "output_type": "stream",
     "text": [
      "[*********************100%***********************]  1 of 1 completed\n",
      "                   Open         High          Low        Close    Adj Close  \\\n",
      "Date                                                                          \n",
      "2018-04-30  9426.110352  9477.139648  9166.809570  9240.549805  9240.549805   \n",
      "2018-05-01  9251.469727  9255.879883  8891.049805  9119.009766  9119.009766   \n",
      "2018-05-02  9104.599609  9256.519531  9015.139648  9235.919922  9235.919922   \n",
      "2018-05-03  9233.969727  9798.330078  9188.150391  9743.860352  9743.860352   \n",
      "2018-05-04  9695.500000  9779.200195  9585.959961  9700.759766  9700.759766   \n",
      "\n",
      "                 Volume  \n",
      "Date                     \n",
      "2018-04-30   8673920000  \n",
      "2018-05-01   7713019904  \n",
      "2018-05-02   7558159872  \n",
      "2018-05-03  10207299584  \n",
      "2018-05-04   8217829888  \n"
     ]
    }
   ],
   "source": [
    "stock = ['BTC-USD']\n",
    "start = pd.to_datetime('2018-05-01')\n",
    "end = pd.to_datetime('2023-05-15')\n",
    "df = yf.download(stock, start = start,end=end )\n",
    "print(df.head())"
   ]
  },
  {
   "cell_type": "code",
   "execution_count": 3,
   "id": "7cb589b7",
   "metadata": {},
   "outputs": [
    {
     "data": {
      "text/html": [
       "<div>\n",
       "<style scoped>\n",
       "    .dataframe tbody tr th:only-of-type {\n",
       "        vertical-align: middle;\n",
       "    }\n",
       "\n",
       "    .dataframe tbody tr th {\n",
       "        vertical-align: top;\n",
       "    }\n",
       "\n",
       "    .dataframe thead th {\n",
       "        text-align: right;\n",
       "    }\n",
       "</style>\n",
       "<table border=\"1\" class=\"dataframe\">\n",
       "  <thead>\n",
       "    <tr style=\"text-align: right;\">\n",
       "      <th></th>\n",
       "      <th>Open</th>\n",
       "      <th>High</th>\n",
       "      <th>Low</th>\n",
       "      <th>Close</th>\n",
       "      <th>Adj Close</th>\n",
       "      <th>Volume</th>\n",
       "    </tr>\n",
       "    <tr>\n",
       "      <th>Date</th>\n",
       "      <th></th>\n",
       "      <th></th>\n",
       "      <th></th>\n",
       "      <th></th>\n",
       "      <th></th>\n",
       "      <th></th>\n",
       "    </tr>\n",
       "  </thead>\n",
       "  <tbody>\n",
       "    <tr>\n",
       "      <th>2018-04-30</th>\n",
       "      <td>9426.110352</td>\n",
       "      <td>9477.139648</td>\n",
       "      <td>9166.809570</td>\n",
       "      <td>9240.549805</td>\n",
       "      <td>9240.549805</td>\n",
       "      <td>8673920000</td>\n",
       "    </tr>\n",
       "    <tr>\n",
       "      <th>2018-05-01</th>\n",
       "      <td>9251.469727</td>\n",
       "      <td>9255.879883</td>\n",
       "      <td>8891.049805</td>\n",
       "      <td>9119.009766</td>\n",
       "      <td>9119.009766</td>\n",
       "      <td>7713019904</td>\n",
       "    </tr>\n",
       "    <tr>\n",
       "      <th>2018-05-02</th>\n",
       "      <td>9104.599609</td>\n",
       "      <td>9256.519531</td>\n",
       "      <td>9015.139648</td>\n",
       "      <td>9235.919922</td>\n",
       "      <td>9235.919922</td>\n",
       "      <td>7558159872</td>\n",
       "    </tr>\n",
       "    <tr>\n",
       "      <th>2018-05-03</th>\n",
       "      <td>9233.969727</td>\n",
       "      <td>9798.330078</td>\n",
       "      <td>9188.150391</td>\n",
       "      <td>9743.860352</td>\n",
       "      <td>9743.860352</td>\n",
       "      <td>10207299584</td>\n",
       "    </tr>\n",
       "    <tr>\n",
       "      <th>2018-05-04</th>\n",
       "      <td>9695.500000</td>\n",
       "      <td>9779.200195</td>\n",
       "      <td>9585.959961</td>\n",
       "      <td>9700.759766</td>\n",
       "      <td>9700.759766</td>\n",
       "      <td>8217829888</td>\n",
       "    </tr>\n",
       "    <tr>\n",
       "      <th>...</th>\n",
       "      <td>...</td>\n",
       "      <td>...</td>\n",
       "      <td>...</td>\n",
       "      <td>...</td>\n",
       "      <td>...</td>\n",
       "      <td>...</td>\n",
       "    </tr>\n",
       "    <tr>\n",
       "      <th>2018-08-03</th>\n",
       "      <td>7562.140137</td>\n",
       "      <td>7562.140137</td>\n",
       "      <td>7328.649902</td>\n",
       "      <td>7434.390137</td>\n",
       "      <td>7434.390137</td>\n",
       "      <td>4627150000</td>\n",
       "    </tr>\n",
       "    <tr>\n",
       "      <th>2018-08-04</th>\n",
       "      <td>7438.669922</td>\n",
       "      <td>7497.490234</td>\n",
       "      <td>6984.069824</td>\n",
       "      <td>7032.850098</td>\n",
       "      <td>7032.850098</td>\n",
       "      <td>4268390000</td>\n",
       "    </tr>\n",
       "    <tr>\n",
       "      <th>2018-08-05</th>\n",
       "      <td>7031.080078</td>\n",
       "      <td>7102.770020</td>\n",
       "      <td>6940.700195</td>\n",
       "      <td>7068.479980</td>\n",
       "      <td>7068.479980</td>\n",
       "      <td>3679110000</td>\n",
       "    </tr>\n",
       "    <tr>\n",
       "      <th>2018-08-06</th>\n",
       "      <td>7062.939941</td>\n",
       "      <td>7166.549805</td>\n",
       "      <td>6890.540039</td>\n",
       "      <td>6951.799805</td>\n",
       "      <td>6951.799805</td>\n",
       "      <td>3925900000</td>\n",
       "    </tr>\n",
       "    <tr>\n",
       "      <th>2018-08-07</th>\n",
       "      <td>6958.319824</td>\n",
       "      <td>7146.560059</td>\n",
       "      <td>6748.240234</td>\n",
       "      <td>6753.120117</td>\n",
       "      <td>6753.120117</td>\n",
       "      <td>4682800000</td>\n",
       "    </tr>\n",
       "  </tbody>\n",
       "</table>\n",
       "<p>100 rows × 6 columns</p>\n",
       "</div>"
      ],
      "text/plain": [
       "                   Open         High          Low        Close    Adj Close  \\\n",
       "Date                                                                          \n",
       "2018-04-30  9426.110352  9477.139648  9166.809570  9240.549805  9240.549805   \n",
       "2018-05-01  9251.469727  9255.879883  8891.049805  9119.009766  9119.009766   \n",
       "2018-05-02  9104.599609  9256.519531  9015.139648  9235.919922  9235.919922   \n",
       "2018-05-03  9233.969727  9798.330078  9188.150391  9743.860352  9743.860352   \n",
       "2018-05-04  9695.500000  9779.200195  9585.959961  9700.759766  9700.759766   \n",
       "...                 ...          ...          ...          ...          ...   \n",
       "2018-08-03  7562.140137  7562.140137  7328.649902  7434.390137  7434.390137   \n",
       "2018-08-04  7438.669922  7497.490234  6984.069824  7032.850098  7032.850098   \n",
       "2018-08-05  7031.080078  7102.770020  6940.700195  7068.479980  7068.479980   \n",
       "2018-08-06  7062.939941  7166.549805  6890.540039  6951.799805  6951.799805   \n",
       "2018-08-07  6958.319824  7146.560059  6748.240234  6753.120117  6753.120117   \n",
       "\n",
       "                 Volume  \n",
       "Date                     \n",
       "2018-04-30   8673920000  \n",
       "2018-05-01   7713019904  \n",
       "2018-05-02   7558159872  \n",
       "2018-05-03  10207299584  \n",
       "2018-05-04   8217829888  \n",
       "...                 ...  \n",
       "2018-08-03   4627150000  \n",
       "2018-08-04   4268390000  \n",
       "2018-08-05   3679110000  \n",
       "2018-08-06   3925900000  \n",
       "2018-08-07   4682800000  \n",
       "\n",
       "[100 rows x 6 columns]"
      ]
     },
     "execution_count": 3,
     "metadata": {},
     "output_type": "execute_result"
    }
   ],
   "source": [
    "df.head(100)"
   ]
  },
  {
   "cell_type": "code",
   "execution_count": 4,
   "id": "5243b3c8",
   "metadata": {},
   "outputs": [
    {
     "data": {
      "text/html": [
       "<div>\n",
       "<style scoped>\n",
       "    .dataframe tbody tr th:only-of-type {\n",
       "        vertical-align: middle;\n",
       "    }\n",
       "\n",
       "    .dataframe tbody tr th {\n",
       "        vertical-align: top;\n",
       "    }\n",
       "\n",
       "    .dataframe thead th {\n",
       "        text-align: right;\n",
       "    }\n",
       "</style>\n",
       "<table border=\"1\" class=\"dataframe\">\n",
       "  <thead>\n",
       "    <tr style=\"text-align: right;\">\n",
       "      <th></th>\n",
       "      <th>Open</th>\n",
       "      <th>High</th>\n",
       "      <th>Low</th>\n",
       "      <th>Close</th>\n",
       "      <th>Adj Close</th>\n",
       "      <th>Volume</th>\n",
       "    </tr>\n",
       "    <tr>\n",
       "      <th>Date</th>\n",
       "      <th></th>\n",
       "      <th></th>\n",
       "      <th></th>\n",
       "      <th></th>\n",
       "      <th></th>\n",
       "      <th></th>\n",
       "    </tr>\n",
       "  </thead>\n",
       "  <tbody>\n",
       "    <tr>\n",
       "      <th>2023-05-10</th>\n",
       "      <td>27654.636719</td>\n",
       "      <td>28322.687500</td>\n",
       "      <td>26883.669922</td>\n",
       "      <td>27621.755859</td>\n",
       "      <td>27621.755859</td>\n",
       "      <td>20656025026</td>\n",
       "    </tr>\n",
       "    <tr>\n",
       "      <th>2023-05-11</th>\n",
       "      <td>27621.085938</td>\n",
       "      <td>27621.941406</td>\n",
       "      <td>26781.826172</td>\n",
       "      <td>27000.789062</td>\n",
       "      <td>27000.789062</td>\n",
       "      <td>16724343943</td>\n",
       "    </tr>\n",
       "    <tr>\n",
       "      <th>2023-05-12</th>\n",
       "      <td>26987.662109</td>\n",
       "      <td>27055.646484</td>\n",
       "      <td>25878.429688</td>\n",
       "      <td>26804.990234</td>\n",
       "      <td>26804.990234</td>\n",
       "      <td>19313599897</td>\n",
       "    </tr>\n",
       "    <tr>\n",
       "      <th>2023-05-13</th>\n",
       "      <td>26807.769531</td>\n",
       "      <td>27030.482422</td>\n",
       "      <td>26710.873047</td>\n",
       "      <td>26784.078125</td>\n",
       "      <td>26784.078125</td>\n",
       "      <td>9999171605</td>\n",
       "    </tr>\n",
       "    <tr>\n",
       "      <th>2023-05-14</th>\n",
       "      <td>26788.974609</td>\n",
       "      <td>27150.976562</td>\n",
       "      <td>26661.355469</td>\n",
       "      <td>26930.638672</td>\n",
       "      <td>26930.638672</td>\n",
       "      <td>10014858959</td>\n",
       "    </tr>\n",
       "  </tbody>\n",
       "</table>\n",
       "</div>"
      ],
      "text/plain": [
       "                    Open          High           Low         Close  \\\n",
       "Date                                                                 \n",
       "2023-05-10  27654.636719  28322.687500  26883.669922  27621.755859   \n",
       "2023-05-11  27621.085938  27621.941406  26781.826172  27000.789062   \n",
       "2023-05-12  26987.662109  27055.646484  25878.429688  26804.990234   \n",
       "2023-05-13  26807.769531  27030.482422  26710.873047  26784.078125   \n",
       "2023-05-14  26788.974609  27150.976562  26661.355469  26930.638672   \n",
       "\n",
       "               Adj Close       Volume  \n",
       "Date                                   \n",
       "2023-05-10  27621.755859  20656025026  \n",
       "2023-05-11  27000.789062  16724343943  \n",
       "2023-05-12  26804.990234  19313599897  \n",
       "2023-05-13  26784.078125   9999171605  \n",
       "2023-05-14  26930.638672  10014858959  "
      ]
     },
     "execution_count": 4,
     "metadata": {},
     "output_type": "execute_result"
    }
   ],
   "source": [
    "df.tail()"
   ]
  },
  {
   "cell_type": "code",
   "execution_count": 5,
   "id": "4a499af4",
   "metadata": {},
   "outputs": [
    {
     "data": {
      "text/plain": [
       "(1841, 6)"
      ]
     },
     "execution_count": 5,
     "metadata": {},
     "output_type": "execute_result"
    }
   ],
   "source": [
    "df.shape"
   ]
  },
  {
   "cell_type": "code",
   "execution_count": 6,
   "id": "387bbcdc",
   "metadata": {},
   "outputs": [
    {
     "name": "stdout",
     "output_type": "stream",
     "text": [
      "['High', 'Low', 'Open', 'Close']\n"
     ]
    }
   ],
   "source": [
    "df1 = df.sort_values(by=['Date']).copy()\n",
    "\n",
    "# List of considered Features\n",
    "feature_cols = ['High', 'Low', 'Open', 'Close']\n",
    "print(feature_cols)"
   ]
  },
  {
   "cell_type": "code",
   "execution_count": 7,
   "id": "545f179d",
   "metadata": {},
   "outputs": [
    {
     "name": "stdout",
     "output_type": "stream",
     "text": [
      "(1841, 4)\n"
     ]
    }
   ],
   "source": [
    "# Create the dataset with features and filter the data to the list of FEATURES\n",
    "data1 = pd.DataFrame(df1)\n",
    "data = data1[feature_cols]\n",
    "print(data.shape)"
   ]
  },
  {
   "cell_type": "code",
   "execution_count": 8,
   "id": "07b11041",
   "metadata": {},
   "outputs": [],
   "source": [
    "# We add a prediction column and set dummy values to prepare the data for scaling\n",
    "\n",
    "data_pred = data.copy()\n",
    "data_pred['Prediction'] = data['Close']\n"
   ]
  },
  {
   "cell_type": "code",
   "execution_count": 9,
   "id": "09cb665d",
   "metadata": {},
   "outputs": [
    {
     "data": {
      "text/html": [
       "<div>\n",
       "<style scoped>\n",
       "    .dataframe tbody tr th:only-of-type {\n",
       "        vertical-align: middle;\n",
       "    }\n",
       "\n",
       "    .dataframe tbody tr th {\n",
       "        vertical-align: top;\n",
       "    }\n",
       "\n",
       "    .dataframe thead th {\n",
       "        text-align: right;\n",
       "    }\n",
       "</style>\n",
       "<table border=\"1\" class=\"dataframe\">\n",
       "  <thead>\n",
       "    <tr style=\"text-align: right;\">\n",
       "      <th></th>\n",
       "      <th>High</th>\n",
       "      <th>Low</th>\n",
       "      <th>Open</th>\n",
       "      <th>Close</th>\n",
       "      <th>Prediction</th>\n",
       "    </tr>\n",
       "    <tr>\n",
       "      <th>Date</th>\n",
       "      <th></th>\n",
       "      <th></th>\n",
       "      <th></th>\n",
       "      <th></th>\n",
       "      <th></th>\n",
       "    </tr>\n",
       "  </thead>\n",
       "  <tbody>\n",
       "    <tr>\n",
       "      <th>2023-05-10</th>\n",
       "      <td>28322.687500</td>\n",
       "      <td>26883.669922</td>\n",
       "      <td>27654.636719</td>\n",
       "      <td>27621.755859</td>\n",
       "      <td>27621.755859</td>\n",
       "    </tr>\n",
       "    <tr>\n",
       "      <th>2023-05-11</th>\n",
       "      <td>27621.941406</td>\n",
       "      <td>26781.826172</td>\n",
       "      <td>27621.085938</td>\n",
       "      <td>27000.789062</td>\n",
       "      <td>27000.789062</td>\n",
       "    </tr>\n",
       "    <tr>\n",
       "      <th>2023-05-12</th>\n",
       "      <td>27055.646484</td>\n",
       "      <td>25878.429688</td>\n",
       "      <td>26987.662109</td>\n",
       "      <td>26804.990234</td>\n",
       "      <td>26804.990234</td>\n",
       "    </tr>\n",
       "    <tr>\n",
       "      <th>2023-05-13</th>\n",
       "      <td>27030.482422</td>\n",
       "      <td>26710.873047</td>\n",
       "      <td>26807.769531</td>\n",
       "      <td>26784.078125</td>\n",
       "      <td>26784.078125</td>\n",
       "    </tr>\n",
       "    <tr>\n",
       "      <th>2023-05-14</th>\n",
       "      <td>27150.976562</td>\n",
       "      <td>26661.355469</td>\n",
       "      <td>26788.974609</td>\n",
       "      <td>26930.638672</td>\n",
       "      <td>26930.638672</td>\n",
       "    </tr>\n",
       "  </tbody>\n",
       "</table>\n",
       "</div>"
      ],
      "text/plain": [
       "                    High           Low          Open         Close  \\\n",
       "Date                                                                 \n",
       "2023-05-10  28322.687500  26883.669922  27654.636719  27621.755859   \n",
       "2023-05-11  27621.941406  26781.826172  27621.085938  27000.789062   \n",
       "2023-05-12  27055.646484  25878.429688  26987.662109  26804.990234   \n",
       "2023-05-13  27030.482422  26710.873047  26807.769531  26784.078125   \n",
       "2023-05-14  27150.976562  26661.355469  26788.974609  26930.638672   \n",
       "\n",
       "              Prediction  \n",
       "Date                      \n",
       "2023-05-10  27621.755859  \n",
       "2023-05-11  27000.789062  \n",
       "2023-05-12  26804.990234  \n",
       "2023-05-13  26784.078125  \n",
       "2023-05-14  26930.638672  "
      ]
     },
     "execution_count": 9,
     "metadata": {},
     "output_type": "execute_result"
    }
   ],
   "source": [
    "data_pred.tail()"
   ]
  },
  {
   "cell_type": "markdown",
   "id": "b1fb30c5",
   "metadata": {},
   "source": [
    "#### 2.1 Visualizing the data"
   ]
  },
  {
   "cell_type": "code",
   "execution_count": 44,
   "id": "c8753a13",
   "metadata": {},
   "outputs": [
    {
     "data": {
      "image/png": "[encoded data removed]",
      "text/plain": [
       "<Figure size 1008x504 with 4 Axes>"
      ]
     },
     "metadata": {
      "needs_background": "light"
     },
     "output_type": "display_data"
    }
   ],
   "source": [
    "df_plot = data.copy()\n",
    "\n",
    "ncols = 2\n",
    "nrows = int(round(df_plot.shape[1] / ncols, 0))\n",
    "\n",
    "fig, ax = plt.subplots(nrows=nrows, ncols=ncols, sharex=True, figsize=(14, 7))\n",
    "for i, ax in enumerate(fig.axes):\n",
    "        sns.lineplot(data = df_plot.iloc[:, i], ax=ax)\n",
    "        ax.tick_params(axis=\"x\", rotation=30, labelsize=10, length=0)\n",
    "        ax.xaxis.set_major_locator(mdates.AutoDateLocator())\n",
    "fig.tight_layout()\n",
    "plt.show()"
   ]
  },
  {
   "cell_type": "markdown",
   "id": "46506ead",
   "metadata": {},
   "source": [
    "#### 3. Data Pre-processing"
   ]
  },
  {
   "cell_type": "markdown",
   "id": "0a4177c8",
   "metadata": {},
   "source": [
    "#### 3.1 Feature Scaling\n",
    "\n",
    "We use the MinMaxScaler to scale the input data to a range between 0 and 1."
   ]
  },
  {
   "cell_type": "code",
   "execution_count": 10,
   "id": "e92b2bd5",
   "metadata": {},
   "outputs": [
    {
     "name": "stdout",
     "output_type": "stream",
     "text": [
      "(1841, 4)\n"
     ]
    }
   ],
   "source": [
    "# Convert the data to numpy values\n",
    "data_unscaled = np.array(data)\n",
    "np_data = np.reshape(data_unscaled, (data.shape[0], -1))\n",
    "print(np_data.shape)"
   ]
  },
  {
   "cell_type": "code",
   "execution_count": 11,
   "id": "3c25251c",
   "metadata": {},
   "outputs": [],
   "source": [
    "scaler = MinMaxScaler()\n",
    "data_scaled = scaler.fit_transform(data_unscaled)\n",
    "\n",
    "# Creating a separate scaler that works on a single column for scaling predictions\n",
    "scaler_pred = MinMaxScaler()\n",
    "df_Close = pd.DataFrame(data_pred['Close'])\n",
    "np_Close_scaled = scaler_pred.fit_transform(df_Close)"
   ]
  },
  {
   "cell_type": "markdown",
   "id": "2714c002",
   "metadata": {},
   "source": [
    "#### 3.2 - Split the data"
   ]
  },
  {
   "cell_type": "code",
   "execution_count": 12,
   "id": "8351d8e2",
   "metadata": {},
   "outputs": [],
   "source": [
    "# Set the sequence length or window size for sliding window approach\n",
    "sequence_length = 50\n",
    "\n",
    "# Prediction Index\n",
    "index_Close = data1.columns.get_loc(\"Close\")"
   ]
  },
  {
   "cell_type": "code",
   "execution_count": 13,
   "id": "1f686413",
   "metadata": {},
   "outputs": [
    {
     "data": {
      "text/plain": [
       "((1473, 4), (418, 4))"
      ]
     },
     "execution_count": 13,
     "metadata": {},
     "output_type": "execute_result"
    }
   ],
   "source": [
    "training_size = math.ceil(data_scaled.shape[0] * 0.8)\n",
    "\n",
    "# Train data\n",
    "train_data = data_scaled[0:training_size, :]\n",
    "# Test data\n",
    "test_data =  data_scaled[training_size - sequence_length:, :]\n",
    "\n",
    "train_data.shape, test_data.shape"
   ]
  },
  {
   "cell_type": "markdown",
   "id": "f599bdce",
   "metadata": {},
   "source": [
    "#### 3.3 Sliding Window Approach\n",
    "\n",
    "A special data structure is designed using the sliging window approach to cover 50-time stamps, based on which RNN will predict the 51st price.\n",
    "\n",
    "Here the number of past timestamps is set to 50 based on experimentation.\n",
    "\n",
    "Thus, X_train is a nested list, which contains lists of 50 time-stamp prices(or mini-batches).\n",
    "\n",
    "y_train is a list of stock prices which is the next day stock price i.e the 51st value, corresponding to each of the mini batches(of lists) in X_train."
   ]
  },
  {
   "cell_type": "code",
   "execution_count": 14,
   "id": "bff3b6a2",
   "metadata": {},
   "outputs": [],
   "source": [
    "def partition_dataset(sequence_length, data):\n",
    "    x, y = [], []\n",
    "    data_len = data.shape[0]\n",
    "    for i in range(sequence_length, data_len):\n",
    "        x.append(data[i-sequence_length:i,:])\n",
    "        y.append(data[i, index_Close]) \n",
    "    \n",
    "    # Convert the x and y to numpy arrays\n",
    "    x = np.array(x)\n",
    "    y = np.array(y)\n",
    "    return x, y"
   ]
  },
  {
   "cell_type": "code",
   "execution_count": 15,
   "id": "0aee3804",
   "metadata": {},
   "outputs": [],
   "source": [
    "# Generate training data and test data\n",
    "x_train, y_train = partition_dataset(sequence_length, train_data)\n",
    "x_test, y_test = partition_dataset(sequence_length, test_data)"
   ]
  },
  {
   "cell_type": "code",
   "execution_count": 16,
   "id": "f0fe15d0",
   "metadata": {},
   "outputs": [
    {
     "name": "stdout",
     "output_type": "stream",
     "text": [
      "(1423, 50, 4) (1423,)\n",
      "(368, 50, 4) (368,)\n"
     ]
    }
   ],
   "source": [
    "print(x_train.shape, y_train.shape)\n",
    "print(x_test.shape, y_test.shape)"
   ]
  },
  {
   "cell_type": "markdown",
   "id": "ce61f626",
   "metadata": {},
   "source": [
    "### 4. Model Building\n",
    "\n",
    "First, we intialize a sequential model and then add the 1st LSTM layer consisting of 200 nuerons.\n",
    "The number of neurons in the first layer must equal the size of a minibatch of the input data. Each minibatch in our dataset consists of a matrix with 50 steps and 4 features. Thus, the input layer of our recurrent neural network consists of 200 neurons.\n",
    "\n",
    "return_sequences= True => passes on the sequences from one LSTM layer to the second LSTM layer.\n",
    "\n",
    "input_shape => Corresponds to the timesteps and no of features of the train set which is 50 and 4 respectively\n",
    "\n",
    "Dense is set to 1 since we are predicting the one closing price."
   ]
  },
  {
   "cell_type": "code",
   "execution_count": 17,
   "id": "f866ac2c",
   "metadata": {},
   "outputs": [
    {
     "name": "stdout",
     "output_type": "stream",
     "text": [
      "200 50 4\n"
     ]
    }
   ],
   "source": [
    "# Configure the neural network model\n",
    "model = Sequential()\n",
    "\n",
    "n_neurons = x_train.shape[1] * x_train.shape[2]\n",
    "\n",
    "print(n_neurons, x_train.shape[1], x_train.shape[2])\n",
    "\n",
    "model.add(LSTM(n_neurons, return_sequences=True, input_shape=(x_train.shape[1], x_train.shape[2]))) \n",
    "model.add(Dropout(0.2)) \n",
    "model.add(LSTM(n_neurons, return_sequences=False))\n",
    "model.add(Dense(4))\n",
    "model.add(Dense(1))\n",
    "\n",
    "# Compile the model\n",
    "model.compile(optimizer='adam', loss='mse')"
   ]
  },
  {
   "cell_type": "markdown",
   "id": "52b9a908",
   "metadata": {},
   "source": [
    "#### 4.1 Model Fitting"
   ]
  },
  {
   "cell_type": "code",
   "execution_count": 18,
   "id": "4b39f782",
   "metadata": {},
   "outputs": [
    {
     "name": "stdout",
     "output_type": "stream",
     "text": [
      "Epoch 1/50\n",
      "89/89 [==============================] - 12s 70ms/step - loss: 0.0056 - val_loss: 0.0020\n",
      "Epoch 2/50\n",
      "89/89 [==============================] - 6s 66ms/step - loss: 0.0013 - val_loss: 7.7598e-04\n",
      "Epoch 3/50\n",
      "89/89 [==============================] - 8s 86ms/step - loss: 0.0012 - val_loss: 0.0014\n",
      "Epoch 4/50\n",
      "89/89 [==============================] - 7s 80ms/step - loss: 0.0013 - val_loss: 4.9480e-04\n",
      "Epoch 5/50\n",
      "89/89 [==============================] - 7s 84ms/step - loss: 8.9553e-04 - val_loss: 3.5302e-04\n",
      "Epoch 6/50\n",
      "89/89 [==============================] - 8s 93ms/step - loss: 8.7410e-04 - val_loss: 8.3787e-04\n",
      "Epoch 7/50\n",
      "89/89 [==============================] - 9s 99ms/step - loss: 8.8483e-04 - val_loss: 7.9730e-04\n",
      "Epoch 8/50\n",
      "89/89 [==============================] - 8s 95ms/step - loss: 8.6465e-04 - val_loss: 3.4018e-04\n",
      "Epoch 9/50\n",
      "89/89 [==============================] - 9s 97ms/step - loss: 7.5464e-04 - val_loss: 0.0021\n",
      "Epoch 10/50\n",
      "89/89 [==============================] - 9s 104ms/step - loss: 8.0346e-04 - val_loss: 2.7501e-04\n",
      "Epoch 11/50\n",
      "89/89 [==============================] - 11s 128ms/step - loss: 7.5249e-04 - val_loss: 4.2332e-04\n",
      "Epoch 12/50\n",
      "89/89 [==============================] - 11s 122ms/step - loss: 7.5258e-04 - val_loss: 2.4402e-04\n",
      "Epoch 13/50\n",
      "89/89 [==============================] - 12s 135ms/step - loss: 8.7042e-04 - val_loss: 2.8492e-04\n",
      "Epoch 14/50\n",
      "89/89 [==============================] - 14s 155ms/step - loss: 7.2685e-04 - val_loss: 2.6493e-04\n",
      "Epoch 15/50\n",
      "89/89 [==============================] - 12s 135ms/step - loss: 7.5880e-04 - val_loss: 0.0013\n",
      "Epoch 16/50\n",
      "89/89 [==============================] - 13s 151ms/step - loss: 8.0364e-04 - val_loss: 3.1076e-04\n",
      "Epoch 17/50\n",
      "89/89 [==============================] - 10s 116ms/step - loss: 7.6714e-04 - val_loss: 3.6433e-04\n",
      "Epoch 18/50\n",
      "89/89 [==============================] - 10s 115ms/step - loss: 7.1885e-04 - val_loss: 2.1676e-04\n",
      "Epoch 19/50\n",
      "89/89 [==============================] - 11s 121ms/step - loss: 8.0001e-04 - val_loss: 2.5162e-04\n",
      "Epoch 20/50\n",
      "89/89 [==============================] - 10s 110ms/step - loss: 6.9120e-04 - val_loss: 1.9264e-04\n",
      "Epoch 21/50\n",
      "89/89 [==============================] - 9s 98ms/step - loss: 7.4784e-04 - val_loss: 2.9230e-04\n",
      "Epoch 22/50\n",
      "89/89 [==============================] - 9s 97ms/step - loss: 7.1290e-04 - val_loss: 3.3234e-04\n",
      "Epoch 23/50\n",
      "89/89 [==============================] - 8s 95ms/step - loss: 6.2900e-04 - val_loss: 3.5521e-04\n",
      "Epoch 24/50\n",
      "89/89 [==============================] - 9s 96ms/step - loss: 6.1812e-04 - val_loss: 4.3913e-04\n",
      "Epoch 25/50\n",
      "89/89 [==============================] - 9s 99ms/step - loss: 6.2209e-04 - val_loss: 3.1833e-04\n",
      "Epoch 26/50\n",
      "89/89 [==============================] - 9s 98ms/step - loss: 5.1807e-04 - val_loss: 1.8275e-04\n",
      "Epoch 27/50\n",
      "89/89 [==============================] - 9s 99ms/step - loss: 5.7359e-04 - val_loss: 9.0672e-04\n",
      "Epoch 28/50\n",
      "89/89 [==============================] - 9s 97ms/step - loss: 6.0268e-04 - val_loss: 1.7603e-04\n",
      "Epoch 29/50\n",
      "89/89 [==============================] - 7s 82ms/step - loss: 6.7540e-04 - val_loss: 1.8642e-04\n",
      "Epoch 30/50\n",
      "89/89 [==============================] - 7s 81ms/step - loss: 5.9207e-04 - val_loss: 1.9153e-04\n",
      "Epoch 31/50\n",
      "89/89 [==============================] - 7s 81ms/step - loss: 5.2643e-04 - val_loss: 1.7014e-04\n",
      "Epoch 32/50\n",
      "89/89 [==============================] - 7s 80ms/step - loss: 5.3773e-04 - val_loss: 2.2057e-04\n",
      "Epoch 33/50\n",
      "89/89 [==============================] - 7s 80ms/step - loss: 6.4468e-04 - val_loss: 7.4822e-04\n",
      "Epoch 34/50\n",
      "89/89 [==============================] - 8s 84ms/step - loss: 6.4177e-04 - val_loss: 2.5631e-04\n",
      "Epoch 35/50\n",
      "89/89 [==============================] - 7s 81ms/step - loss: 5.7744e-04 - val_loss: 1.6119e-04\n",
      "Epoch 36/50\n",
      "89/89 [==============================] - 7s 81ms/step - loss: 5.2461e-04 - val_loss: 2.4676e-04\n",
      "Epoch 37/50\n",
      "89/89 [==============================] - 7s 82ms/step - loss: 5.8017e-04 - val_loss: 1.5165e-04\n",
      "Epoch 38/50\n",
      "89/89 [==============================] - 7s 83ms/step - loss: 5.4132e-04 - val_loss: 1.8240e-04\n",
      "Epoch 39/50\n",
      "89/89 [==============================] - 8s 85ms/step - loss: 6.3384e-04 - val_loss: 6.2755e-04\n",
      "Epoch 40/50\n",
      "89/89 [==============================] - 7s 80ms/step - loss: 4.9582e-04 - val_loss: 2.2165e-04\n",
      "Epoch 41/50\n",
      "89/89 [==============================] - 7s 84ms/step - loss: 5.7796e-04 - val_loss: 1.7401e-04\n",
      "Epoch 42/50\n",
      "89/89 [==============================] - 8s 85ms/step - loss: 4.6430e-04 - val_loss: 2.6175e-04\n",
      "Epoch 43/50\n",
      "89/89 [==============================] - 7s 84ms/step - loss: 4.7691e-04 - val_loss: 1.8481e-04\n",
      "Epoch 44/50\n",
      "89/89 [==============================] - 7s 81ms/step - loss: 6.3402e-04 - val_loss: 3.7929e-04\n",
      "Epoch 45/50\n",
      "89/89 [==============================] - 8s 85ms/step - loss: 5.5291e-04 - val_loss: 2.8085e-04\n",
      "Epoch 46/50\n",
      "89/89 [==============================] - 8s 85ms/step - loss: 4.7810e-04 - val_loss: 1.8884e-04\n",
      "Epoch 47/50\n",
      "89/89 [==============================] - 8s 85ms/step - loss: 4.9705e-04 - val_loss: 1.4504e-04\n",
      "Epoch 48/50\n",
      "89/89 [==============================] - 8s 85ms/step - loss: 4.7630e-04 - val_loss: 7.5879e-04\n",
      "Epoch 49/50\n",
      "89/89 [==============================] - 7s 84ms/step - loss: 5.5835e-04 - val_loss: 8.6403e-04\n",
      "Epoch 50/50\n",
      "89/89 [==============================] - 8s 85ms/step - loss: 5.2026e-04 - val_loss: 1.6342e-04\n"
     ]
    }
   ],
   "source": [
    "\n",
    "epochs = 50\n",
    "batch_size = 16\n",
    "early_stop = EarlyStopping(monitor='loss', patience=5, verbose=1)\n",
    "history = model.fit(x_train, y_train, \n",
    "                    batch_size=batch_size, \n",
    "                    epochs=epochs,\n",
    "                    validation_data=(x_test, y_test)\n",
    "                   )\n",
    "                    "
   ]
  },
  {
   "cell_type": "markdown",
   "id": "82804652",
   "metadata": {},
   "source": [
    "#### 4.2 Plot training & validation loss values"
   ]
  },
  {
   "cell_type": "code",
   "execution_count": 19,
   "id": "2c269735",
   "metadata": {},
   "outputs": [
    {
     "data": {
      "image/png": "[encoded data removed]",
      "text/plain": [
       "<Figure size 1152x360 with 1 Axes>"
      ]
     },
     "metadata": {
      "needs_background": "light"
     },
     "output_type": "display_data"
    }
   ],
   "source": [
    "\n",
    "fig, ax = plt.subplots(figsize=(16, 5), sharex=True)\n",
    "sns.lineplot(data=history.history[\"loss\"])\n",
    "plt.title(\"Model loss\")\n",
    "plt.ylabel(\"Loss\")\n",
    "plt.xlabel(\"Epoch\")\n",
    "ax.xaxis.set_major_locator(plt.MaxNLocator(epochs))\n",
    "plt.legend([\"Train\", \"Test\"], loc=\"upper left\")\n",
    "plt.grid()\n",
    "plt.show()"
   ]
  },
  {
   "cell_type": "markdown",
   "id": "531e6954",
   "metadata": {},
   "source": [
    "**Inference:** The loss drops quickly to a lower plateau, which signals that the model has improved throughout the training process."
   ]
  },
  {
   "cell_type": "markdown",
   "id": "8bb8526e",
   "metadata": {},
   "source": [
    "### 5. Making Predictions"
   ]
  },
  {
   "cell_type": "code",
   "execution_count": 20,
   "id": "97e707b1",
   "metadata": {},
   "outputs": [
    {
     "name": "stdout",
     "output_type": "stream",
     "text": [
      "12/12 [==============================] - 2s 35ms/step\n"
     ]
    },
    {
     "data": {
      "text/plain": [
       "array([[0.40518305],\n",
       "       [0.38902175],\n",
       "       [0.3997713 ],\n",
       "       [0.40821555],\n",
       "       [0.42583987]], dtype=float32)"
      ]
     },
     "execution_count": 20,
     "metadata": {},
     "output_type": "execute_result"
    }
   ],
   "source": [
    "# Get the predicted values\n",
    "\n",
    "test_pred = model.predict(x_test)\n",
    "test_pred[:5]"
   ]
  },
  {
   "cell_type": "code",
   "execution_count": 21,
   "id": "c7a458dc",
   "metadata": {},
   "outputs": [],
   "source": [
    "# Unscale the predicted values and the y_test data\n",
    "\n",
    "predicted_stock_price = scaler_pred.inverse_transform(test_pred)\n",
    "\n",
    "predicted_stock_price_unscaled = scaler_pred.inverse_transform(y_test.reshape(-1, 1))"
   ]
  },
  {
   "cell_type": "markdown",
   "id": "c12579f9",
   "metadata": {},
   "source": [
    "### 6. Evaluate the model performance"
   ]
  },
  {
   "cell_type": "code",
   "execution_count": 45,
   "id": "1e7c1ddb",
   "metadata": {},
   "outputs": [
    {
     "name": "stdout",
     "output_type": "stream",
     "text": [
      "Root Mean Squared Error (MSE): 822.362\n"
     ]
    }
   ],
   "source": [
    "ms_error = mean_squared_error(predicted_stock_price_unscaled, predicted_stock_price)\n",
    "root_ms_error = math.sqrt(ms_error)\n",
    "print('Root Mean Squared Error (MSE): %.3f' % root_ms_error)"
   ]
  },
  {
   "cell_type": "markdown",
   "id": "fdb49c9f",
   "metadata": {},
   "source": [
    "**Inference**: We have used Root Mean Square Error(RMSE) as the error metric. RMSE signifies the average distance between predicted points on the test set and the actual (true) labels. In other words, it shows the extent of our error. The less this number, the better. We can see, that our model’s RMSE is not very big (consider that the price in our data set is in thousands of USD, and we are mistaken only by tens of USD)."
   ]
  },
  {
   "cell_type": "markdown",
   "id": "e267c6a7",
   "metadata": {
    "scrolled": false
   },
   "source": [
    "### 7. Result Visualization"
   ]
  },
  {
   "cell_type": "code",
   "execution_count": 23,
   "id": "e92cd4de",
   "metadata": {},
   "outputs": [],
   "source": [
    "final_data = pd.concat([data.iloc[-368:].copy(),pd.DataFrame(predicted_stock_price,columns=['Close_Predicted'],index= data.iloc[-368:].index)], axis=1)"
   ]
  },
  {
   "cell_type": "code",
   "execution_count": 24,
   "id": "0c3cfaa3",
   "metadata": {},
   "outputs": [],
   "source": [
    "final_data['Close'] = scaler_pred.inverse_transform(y_test.reshape(-1, 1))"
   ]
  },
  {
   "cell_type": "code",
   "execution_count": 25,
   "id": "f230d43e",
   "metadata": {},
   "outputs": [
    {
     "data": {
      "text/html": [
       "<div>\n",
       "<style scoped>\n",
       "    .dataframe tbody tr th:only-of-type {\n",
       "        vertical-align: middle;\n",
       "    }\n",
       "\n",
       "    .dataframe tbody tr th {\n",
       "        vertical-align: top;\n",
       "    }\n",
       "\n",
       "    .dataframe thead th {\n",
       "        text-align: right;\n",
       "    }\n",
       "</style>\n",
       "<table border=\"1\" class=\"dataframe\">\n",
       "  <thead>\n",
       "    <tr style=\"text-align: right;\">\n",
       "      <th></th>\n",
       "      <th>High</th>\n",
       "      <th>Low</th>\n",
       "      <th>Open</th>\n",
       "      <th>Close</th>\n",
       "      <th>Close_Predicted</th>\n",
       "    </tr>\n",
       "    <tr>\n",
       "      <th>Date</th>\n",
       "      <th></th>\n",
       "      <th></th>\n",
       "      <th></th>\n",
       "      <th></th>\n",
       "      <th></th>\n",
       "    </tr>\n",
       "  </thead>\n",
       "  <tbody>\n",
       "    <tr>\n",
       "      <th>2022-05-12</th>\n",
       "      <td>30032.439453</td>\n",
       "      <td>26350.490234</td>\n",
       "      <td>28936.734375</td>\n",
       "      <td>29047.751953</td>\n",
       "      <td>29302.212891</td>\n",
       "    </tr>\n",
       "    <tr>\n",
       "      <th>2022-05-13</th>\n",
       "      <td>30924.802734</td>\n",
       "      <td>28782.330078</td>\n",
       "      <td>29030.910156</td>\n",
       "      <td>29283.103516</td>\n",
       "      <td>28262.556641</td>\n",
       "    </tr>\n",
       "    <tr>\n",
       "      <th>2022-05-14</th>\n",
       "      <td>30192.802734</td>\n",
       "      <td>28702.910156</td>\n",
       "      <td>29285.642578</td>\n",
       "      <td>30101.265625</td>\n",
       "      <td>28954.076172</td>\n",
       "    </tr>\n",
       "    <tr>\n",
       "      <th>2022-05-15</th>\n",
       "      <td>31308.191406</td>\n",
       "      <td>29527.740234</td>\n",
       "      <td>30098.585938</td>\n",
       "      <td>31305.113281</td>\n",
       "      <td>29497.294922</td>\n",
       "    </tr>\n",
       "    <tr>\n",
       "      <th>2022-05-16</th>\n",
       "      <td>31305.341797</td>\n",
       "      <td>29251.884766</td>\n",
       "      <td>31304.375000</td>\n",
       "      <td>29862.917969</td>\n",
       "      <td>30631.068359</td>\n",
       "    </tr>\n",
       "    <tr>\n",
       "      <th>...</th>\n",
       "      <td>...</td>\n",
       "      <td>...</td>\n",
       "      <td>...</td>\n",
       "      <td>...</td>\n",
       "      <td>...</td>\n",
       "    </tr>\n",
       "    <tr>\n",
       "      <th>2022-08-15</th>\n",
       "      <td>25135.589844</td>\n",
       "      <td>23839.775391</td>\n",
       "      <td>24318.316406</td>\n",
       "      <td>24136.972656</td>\n",
       "      <td>24854.634766</td>\n",
       "    </tr>\n",
       "    <tr>\n",
       "      <th>2022-08-16</th>\n",
       "      <td>24228.416016</td>\n",
       "      <td>23733.500000</td>\n",
       "      <td>24126.136719</td>\n",
       "      <td>23883.291016</td>\n",
       "      <td>24686.574219</td>\n",
       "    </tr>\n",
       "    <tr>\n",
       "      <th>2022-08-17</th>\n",
       "      <td>24407.058594</td>\n",
       "      <td>23243.353516</td>\n",
       "      <td>23881.316406</td>\n",
       "      <td>23335.998047</td>\n",
       "      <td>24333.312500</td>\n",
       "    </tr>\n",
       "    <tr>\n",
       "      <th>2022-08-18</th>\n",
       "      <td>23563.832031</td>\n",
       "      <td>23177.601562</td>\n",
       "      <td>23341.039062</td>\n",
       "      <td>23212.738281</td>\n",
       "      <td>23909.718750</td>\n",
       "    </tr>\n",
       "    <tr>\n",
       "      <th>2022-08-19</th>\n",
       "      <td>23213.312500</td>\n",
       "      <td>20868.847656</td>\n",
       "      <td>23213.312500</td>\n",
       "      <td>20877.552734</td>\n",
       "      <td>23569.568359</td>\n",
       "    </tr>\n",
       "  </tbody>\n",
       "</table>\n",
       "<p>100 rows × 5 columns</p>\n",
       "</div>"
      ],
      "text/plain": [
       "                    High           Low          Open         Close  \\\n",
       "Date                                                                 \n",
       "2022-05-12  30032.439453  26350.490234  28936.734375  29047.751953   \n",
       "2022-05-13  30924.802734  28782.330078  29030.910156  29283.103516   \n",
       "2022-05-14  30192.802734  28702.910156  29285.642578  30101.265625   \n",
       "2022-05-15  31308.191406  29527.740234  30098.585938  31305.113281   \n",
       "2022-05-16  31305.341797  29251.884766  31304.375000  29862.917969   \n",
       "...                  ...           ...           ...           ...   \n",
       "2022-08-15  25135.589844  23839.775391  24318.316406  24136.972656   \n",
       "2022-08-16  24228.416016  23733.500000  24126.136719  23883.291016   \n",
       "2022-08-17  24407.058594  23243.353516  23881.316406  23335.998047   \n",
       "2022-08-18  23563.832031  23177.601562  23341.039062  23212.738281   \n",
       "2022-08-19  23213.312500  20868.847656  23213.312500  20877.552734   \n",
       "\n",
       "            Close_Predicted  \n",
       "Date                         \n",
       "2022-05-12     29302.212891  \n",
       "2022-05-13     28262.556641  \n",
       "2022-05-14     28954.076172  \n",
       "2022-05-15     29497.294922  \n",
       "2022-05-16     30631.068359  \n",
       "...                     ...  \n",
       "2022-08-15     24854.634766  \n",
       "2022-08-16     24686.574219  \n",
       "2022-08-17     24333.312500  \n",
       "2022-08-18     23909.718750  \n",
       "2022-08-19     23569.568359  \n",
       "\n",
       "[100 rows x 5 columns]"
      ]
     },
     "execution_count": 25,
     "metadata": {},
     "output_type": "execute_result"
    }
   ],
   "source": [
    "final_data.head(100)"
   ]
  },
  {
   "cell_type": "code",
   "execution_count": 26,
   "id": "3f27c8f6",
   "metadata": {},
   "outputs": [
    {
     "data": {
      "image/png": "[encoded data removed]",
      "text/plain": [
       "<Figure size 720x432 with 1 Axes>"
      ]
     },
     "metadata": {
      "needs_background": "light"
     },
     "output_type": "display_data"
    }
   ],
   "source": [
    "final_data[['Close','Close_Predicted']].plot(figsize=(10,6))\n",
    "plt.xticks(rotation=45)\n",
    "plt.xlabel('Date',size=15)\n",
    "plt.ylabel('Stock Price',size=15)\n",
    "plt.title('Actual vs Predicted for Close Price of Bitcoin ',size=15)\n",
    "plt.show()"
   ]
  },
  {
   "cell_type": "markdown",
   "id": "ce5116f3",
   "metadata": {},
   "source": [
    "**The plot shows that the forecast is close to the actual values but partially deviates from it. These deviations between actual values and predictions are called residuals.**"
   ]
  },
  {
   "cell_type": "code",
   "execution_count": null,
   "id": "c2dc4475",
   "metadata": {},
   "outputs": [],
   "source": []
  }
 ],
 "metadata": {
  "kernelspec": {
   "display_name": "Python 3 (ipykernel)",
   "language": "python",
   "name": "python3"
  },
  "language_info": {
   "codemirror_mode": {
    "name": "ipython",
    "version": 3
   },
   "file_extension": ".py",
   "mimetype": "text/x-python",
   "name": "python",
   "nbconvert_exporter": "python",
   "pygments_lexer": "ipython3",
   "version": "3.9.12"
  }
 },
 "nbformat": 4,
 "nbformat_minor": 5
}
